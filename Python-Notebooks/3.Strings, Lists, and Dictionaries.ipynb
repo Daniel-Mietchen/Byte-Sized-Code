{
 "cells": [
  {
   "cell_type": "markdown",
   "metadata": {},
   "source": [
    "# Strings, Lists, and Dictionaries\n",
    "\n",
    "**By Arpit Omprakash, Byte Sized Code**"
   ]
  },
  {
   "cell_type": "markdown",
   "metadata": {},
   "source": [
    "## Strings\n",
    "\n",
    "**A Quick Recap:**  \n",
    "A string is a data type in python that's used to represent a piece of text.  \n",
    "- It's enclosed between quotes, either double or single.\n",
    "- We can concatenate string to form longer strings by using the plus sign.\n",
    "- We can multiply a string by a number to repeat it that many times.\n",
    "- The `len` function tells us the number of characters present in a string.\n",
    "\n",
    "But there's so much more that can be done with strings in Python!!"
   ]
  },
  {
   "cell_type": "markdown",
   "metadata": {},
   "source": [
    "### The Parts of a String\n",
    "\n",
    "**String Indexing** is an operation that lets us access the character in a given position (or index) using square brackets and the number of the position we want to access.  \n",
    "It should be noted that strings are **zero-indexed**, i.e., the position numbering starts with a `zero` and ends with the `length of string - 1`."
   ]
  },
  {
   "cell_type": "code",
   "execution_count": 1,
   "metadata": {},
   "outputs": [],
   "source": [
    "var = \"python\""
   ]
  },
  {
   "cell_type": "code",
   "execution_count": 2,
   "metadata": {},
   "outputs": [
    {
     "name": "stdout",
     "output_type": "stream",
     "text": [
      "p\n"
     ]
    }
   ],
   "source": [
    "print(var[0])"
   ]
  },
  {
   "cell_type": "code",
   "execution_count": 3,
   "metadata": {},
   "outputs": [
    {
     "name": "stdout",
     "output_type": "stream",
     "text": [
      "y\n"
     ]
    }
   ],
   "source": [
    "print(var[1])"
   ]
  },
  {
   "cell_type": "code",
   "execution_count": 4,
   "metadata": {},
   "outputs": [
    {
     "name": "stdout",
     "output_type": "stream",
     "text": [
      "n\n"
     ]
    }
   ],
   "source": [
    "print(var[len(var) - 1])"
   ]
  },
  {
   "cell_type": "markdown",
   "metadata": {},
   "source": [
    "What if we don't know the length of the variable we are indexing and we can't use the `len` function?  \n",
    "We can still get the character at the last position by something called a negative index.  \n",
    "\n",
    "**Negative indexes** lets us access the positoins in the string starting from the last one.\n",
    "NOTE: negative indexes start at `-1` and continue till `-length of string`"
   ]
  },
  {
   "cell_type": "code",
   "execution_count": 5,
   "metadata": {},
   "outputs": [
    {
     "name": "stdout",
     "output_type": "stream",
     "text": [
      "n\n"
     ]
    }
   ],
   "source": [
    "print(var[-1])"
   ]
  },
  {
   "cell_type": "code",
   "execution_count": 6,
   "metadata": {},
   "outputs": [
    {
     "name": "stdout",
     "output_type": "stream",
     "text": [
      "p\n"
     ]
    }
   ],
   "source": [
    "print(var[-6])"
   ]
  },
  {
   "cell_type": "markdown",
   "metadata": {},
   "source": [
    "Apart from accessing a single character from a string, we can also access a slice from a string.  \n",
    "A **slice** is a portion of a string that can contain more than one character; also sometimes called a substring.  \n",
    "This is achieved by creating a range inside the square brackets separated by a colon(:).  \n",
    "- var[m:n] gives us the slice from position `m` to position `n-1`\n",
    "- var[m:] gives us the slice from position `m` to the end of the string\n",
    "- var[:n] gives us the slice from the beginning to position `n-1`"
   ]
  },
  {
   "cell_type": "code",
   "execution_count": 7,
   "metadata": {},
   "outputs": [
    {
     "name": "stdout",
     "output_type": "stream",
     "text": [
      "ho\n"
     ]
    }
   ],
   "source": [
    "print(var[3:5])"
   ]
  },
  {
   "cell_type": "code",
   "execution_count": 8,
   "metadata": {},
   "outputs": [
    {
     "name": "stdout",
     "output_type": "stream",
     "text": [
      "on\n"
     ]
    }
   ],
   "source": [
    "print(var[4:])"
   ]
  },
  {
   "cell_type": "code",
   "execution_count": 9,
   "metadata": {},
   "outputs": [
    {
     "name": "stdout",
     "output_type": "stream",
     "text": [
      "pyt\n"
     ]
    }
   ],
   "source": [
    "print(var[:3])"
   ]
  },
  {
   "cell_type": "markdown",
   "metadata": {},
   "source": [
    "### Creating New Strings & Substrings\n",
    "\n",
    "What if we want to change a part of a string?  \n",
    "Suppose we had a typo:"
   ]
  },
  {
   "cell_type": "code",
   "execution_count": 10,
   "metadata": {},
   "outputs": [
    {
     "name": "stdout",
     "output_type": "stream",
     "text": [
      "pythin\n"
     ]
    }
   ],
   "source": [
    "var = \"pythin\"\n",
    "print(var)"
   ]
  },
  {
   "cell_type": "markdown",
   "metadata": {},
   "source": [
    "Let's try changing the value at the given index"
   ]
  },
  {
   "cell_type": "code",
   "execution_count": 11,
   "metadata": {},
   "outputs": [
    {
     "ename": "TypeError",
     "evalue": "'str' object does not support item assignment",
     "output_type": "error",
     "traceback": [
      "\u001b[1;31m---------------------------------------------------------------------------\u001b[0m",
      "\u001b[1;31mTypeError\u001b[0m                                 Traceback (most recent call last)",
      "\u001b[1;32m<ipython-input-11-8d8748ff3705>\u001b[0m in \u001b[0;36m<module>\u001b[1;34m\u001b[0m\n\u001b[1;32m----> 1\u001b[1;33m \u001b[0mvar\u001b[0m\u001b[1;33m[\u001b[0m\u001b[1;36m4\u001b[0m\u001b[1;33m]\u001b[0m \u001b[1;33m=\u001b[0m \u001b[1;34m\"o\"\u001b[0m\u001b[1;33m\u001b[0m\u001b[1;33m\u001b[0m\u001b[0m\n\u001b[0m",
      "\u001b[1;31mTypeError\u001b[0m: 'str' object does not support item assignment"
     ]
    }
   ],
   "source": [
    "var[4] = \"o\""
   ]
  },
  {
   "cell_type": "markdown",
   "metadata": {},
   "source": [
    "As we see above, that gives us an error. But why?  \n",
    "Strings are what are called **immutable** data types.  \n",
    "That is a fancy way of saying that once we create a string, we can't change its contents.  \n",
    "Then what can we do here?  \n",
    "We can simply reassign the variable by correcting the typo or better, create a new string based on the old one."
   ]
  },
  {
   "cell_type": "code",
   "execution_count": 12,
   "metadata": {},
   "outputs": [
    {
     "name": "stdout",
     "output_type": "stream",
     "text": [
      "python\n"
     ]
    }
   ],
   "source": [
    "var = var[:4] + \"o\" + var[5:]\n",
    "print(var)"
   ]
  },
  {
   "cell_type": "markdown",
   "metadata": {},
   "source": [
    "What if we know the typo, but we don't know where the typo is?  \n",
    "We can use something called the `index` function for strings."
   ]
  },
  {
   "cell_type": "code",
   "execution_count": 13,
   "metadata": {},
   "outputs": [],
   "source": [
    "pets = \"cat and pythin\""
   ]
  },
  {
   "cell_type": "code",
   "execution_count": 14,
   "metadata": {},
   "outputs": [
    {
     "name": "stdout",
     "output_type": "stream",
     "text": [
      "12\n"
     ]
    }
   ],
   "source": [
    "print(pets.index(\"i\"))"
   ]
  },
  {
   "cell_type": "markdown",
   "metadata": {},
   "source": [
    "We can also use the `index` function with slice of strings."
   ]
  },
  {
   "cell_type": "code",
   "execution_count": 15,
   "metadata": {},
   "outputs": [
    {
     "name": "stdout",
     "output_type": "stream",
     "text": [
      "4\n"
     ]
    }
   ],
   "source": [
    "print(pets.index(\"and\"))"
   ]
  },
  {
   "cell_type": "markdown",
   "metadata": {},
   "source": [
    "However, we need to be really sure that the substring we are searching for is present in the string to prevent any errors."
   ]
  },
  {
   "cell_type": "code",
   "execution_count": 16,
   "metadata": {},
   "outputs": [
    {
     "ename": "ValueError",
     "evalue": "substring not found",
     "output_type": "error",
     "traceback": [
      "\u001b[1;31m---------------------------------------------------------------------------\u001b[0m",
      "\u001b[1;31mValueError\u001b[0m                                Traceback (most recent call last)",
      "\u001b[1;32m<ipython-input-16-f246eba16f18>\u001b[0m in \u001b[0;36m<module>\u001b[1;34m\u001b[0m\n\u001b[1;32m----> 1\u001b[1;33m \u001b[0mprint\u001b[0m\u001b[1;33m(\u001b[0m\u001b[0mpets\u001b[0m\u001b[1;33m.\u001b[0m\u001b[0mindex\u001b[0m\u001b[1;33m(\u001b[0m\u001b[1;34m\"dog\"\u001b[0m\u001b[1;33m)\u001b[0m\u001b[1;33m)\u001b[0m\u001b[1;33m\u001b[0m\u001b[1;33m\u001b[0m\u001b[0m\n\u001b[0m",
      "\u001b[1;31mValueError\u001b[0m: substring not found"
     ]
    }
   ],
   "source": [
    "print(pets.index(\"dog\"))"
   ]
  },
  {
   "cell_type": "markdown",
   "metadata": {},
   "source": [
    "How can we make sure that a substring is present in a string?  \n",
    "We can use the `in` keyword.  \n",
    "It's basically like in English."
   ]
  },
  {
   "cell_type": "code",
   "execution_count": 17,
   "metadata": {},
   "outputs": [
    {
     "name": "stdout",
     "output_type": "stream",
     "text": [
      "True\n"
     ]
    }
   ],
   "source": [
    "print(\"cat\" in pets)"
   ]
  },
  {
   "cell_type": "code",
   "execution_count": 18,
   "metadata": {},
   "outputs": [
    {
     "name": "stdout",
     "output_type": "stream",
     "text": [
      "False\n"
     ]
    }
   ],
   "source": [
    "print(\"dog\" in pets)"
   ]
  },
  {
   "cell_type": "markdown",
   "metadata": {},
   "source": [
    "Let's have a look at a real world example where we can use the things we have learned till now.  \n",
    "**P.S.** It is assumed that you are on this notebook after coming through the \"Basic Syntax\", and \"Loops and Recursions\" notebook, thus, we will be using things we learnt there without much explanation."
   ]
  },
  {
   "cell_type": "code",
   "execution_count": 19,
   "metadata": {},
   "outputs": [],
   "source": [
    "# Changes the domain of a given email from the old domain to the new domain\n",
    "def change_domain(email, old_domain, new_domain):\n",
    "    if \"@\" + old_domain in email:\n",
    "        ind = email.index(\"@\" + old_domain)\n",
    "        new_email = email[:ind] + \"@\" + new_domain\n",
    "        return new_email\n",
    "    return email"
   ]
  },
  {
   "cell_type": "code",
   "execution_count": 20,
   "metadata": {},
   "outputs": [
    {
     "name": "stdout",
     "output_type": "stream",
     "text": [
      "xyz@google.com\n"
     ]
    }
   ],
   "source": [
    "result = change_domain(\"xyz@example.com\", \"example.com\", \"google.com\")\n",
    "print(result)"
   ]
  },
  {
   "cell_type": "markdown",
   "metadata": {},
   "source": [
    "### More String Functions and Methods"
   ]
  },
  {
   "cell_type": "markdown",
   "metadata": {},
   "source": [
    "**UPPER**  \n",
    "This function transforms any English characters in the string to uppercase."
   ]
  },
  {
   "cell_type": "code",
   "execution_count": 21,
   "metadata": {},
   "outputs": [
    {
     "name": "stdout",
     "output_type": "stream",
     "text": [
      "MOUNTAINS\n"
     ]
    }
   ],
   "source": [
    "print(\"Mountains\".upper())"
   ]
  },
  {
   "cell_type": "markdown",
   "metadata": {},
   "source": [
    "**LOWER**  \n",
    "This function transforms any English characters in the string to lowercase."
   ]
  },
  {
   "cell_type": "code",
   "execution_count": 22,
   "metadata": {},
   "outputs": [
    {
     "name": "stdout",
     "output_type": "stream",
     "text": [
      "mountains\n"
     ]
    }
   ],
   "source": [
    "print(\"MounTaiNS\".lower())"
   ]
  },
  {
   "cell_type": "markdown",
   "metadata": {},
   "source": [
    "**STRIP**  \n",
    "This function gets rid of trailing and preceding spaces in the string.  \n",
    "We can use the more specialized **lstrip** to get rid of preceding spaces and also use **rstrip** to get rid of the trailing spaces."
   ]
  },
  {
   "cell_type": "code",
   "execution_count": 23,
   "metadata": {},
   "outputs": [
    {
     "data": {
      "text/plain": [
       "' yea '"
      ]
     },
     "execution_count": 23,
     "metadata": {},
     "output_type": "execute_result"
    }
   ],
   "source": [
    "var = \" yea \"\n",
    "var"
   ]
  },
  {
   "cell_type": "code",
   "execution_count": 24,
   "metadata": {},
   "outputs": [
    {
     "data": {
      "text/plain": [
       "'yea'"
      ]
     },
     "execution_count": 24,
     "metadata": {},
     "output_type": "execute_result"
    }
   ],
   "source": [
    "var.strip()"
   ]
  },
  {
   "cell_type": "code",
   "execution_count": 25,
   "metadata": {},
   "outputs": [
    {
     "data": {
      "text/plain": [
       "'yea '"
      ]
     },
     "execution_count": 25,
     "metadata": {},
     "output_type": "execute_result"
    }
   ],
   "source": [
    "var.lstrip()"
   ]
  },
  {
   "cell_type": "code",
   "execution_count": 26,
   "metadata": {},
   "outputs": [
    {
     "data": {
      "text/plain": [
       "' yea'"
      ]
     },
     "execution_count": 26,
     "metadata": {},
     "output_type": "execute_result"
    }
   ],
   "source": [
    "var.rstrip()"
   ]
  },
  {
   "cell_type": "markdown",
   "metadata": {},
   "source": [
    "**COUNT**  \n",
    "Returns how many times a given substring appears within a string."
   ]
  },
  {
   "cell_type": "code",
   "execution_count": 27,
   "metadata": {},
   "outputs": [
    {
     "name": "stdout",
     "output_type": "stream",
     "text": [
      "4\n"
     ]
    }
   ],
   "source": [
    "print(\"The number of times e occurs in this string is 4\".count(\"e\"))"
   ]
  },
  {
   "cell_type": "markdown",
   "metadata": {},
   "source": [
    "**ENDSWITH**  \n",
    "This method returns whether the string ends with a certain substring."
   ]
  },
  {
   "cell_type": "code",
   "execution_count": 28,
   "metadata": {},
   "outputs": [
    {
     "name": "stdout",
     "output_type": "stream",
     "text": [
      "True\n"
     ]
    }
   ],
   "source": [
    "print(\"Forest\".endswith(\"rest\"))"
   ]
  },
  {
   "cell_type": "markdown",
   "metadata": {},
   "source": [
    "**ISNUMERIC**  \n",
    "This method returns whether the string is composed of only numbers."
   ]
  },
  {
   "cell_type": "code",
   "execution_count": 29,
   "metadata": {},
   "outputs": [
    {
     "name": "stdout",
     "output_type": "stream",
     "text": [
      "False\n"
     ]
    }
   ],
   "source": [
    "print(\"name\".isnumeric())"
   ]
  },
  {
   "cell_type": "code",
   "execution_count": 30,
   "metadata": {},
   "outputs": [
    {
     "name": "stdout",
     "output_type": "stream",
     "text": [
      "True\n"
     ]
    }
   ],
   "source": [
    "print(\"1234\".isnumeric())"
   ]
  },
  {
   "cell_type": "markdown",
   "metadata": {},
   "source": [
    "**INT**  \n",
    "If a string returns true for `isnumeric`, we can use the `int` function to convert it into an integer."
   ]
  },
  {
   "cell_type": "code",
   "execution_count": 31,
   "metadata": {},
   "outputs": [
    {
     "name": "stdout",
     "output_type": "stream",
     "text": [
      "1234\n"
     ]
    }
   ],
   "source": [
    "print(int(\"1234\"))"
   ]
  },
  {
   "cell_type": "markdown",
   "metadata": {},
   "source": [
    "**JOIN**  \n",
    "The join method is also used for concatenating strings.  \n",
    "The syntax is as follows:\n",
    "```\n",
    "\"what_to_join_with\".join(strings_to_join)\n",
    "```"
   ]
  },
  {
   "cell_type": "code",
   "execution_count": 32,
   "metadata": {},
   "outputs": [
    {
     "name": "stdout",
     "output_type": "stream",
     "text": [
      "Ben-25-Cal\n"
     ]
    }
   ],
   "source": [
    "print(\"-\".join([\"Ben\", \"25\", \"Cal\"]))"
   ]
  },
  {
   "cell_type": "markdown",
   "metadata": {},
   "source": [
    "**SPLIT**  \n",
    "We can also split a string to a list of strings.  \n",
    "By default it splits everything by whitespace, but we can change that behaviour by providing it with a parameter."
   ]
  },
  {
   "cell_type": "code",
   "execution_count": 33,
   "metadata": {},
   "outputs": [
    {
     "name": "stdout",
     "output_type": "stream",
     "text": [
      "['wow.', 'this', 'is', 'great']\n"
     ]
    }
   ],
   "source": [
    "print(\"wow. this is great\".split())"
   ]
  },
  {
   "cell_type": "code",
   "execution_count": 34,
   "metadata": {},
   "outputs": [
    {
     "name": "stdout",
     "output_type": "stream",
     "text": [
      "['wow', ' this is great']\n"
     ]
    }
   ],
   "source": [
    "print(\"wow. this is great\".split(\".\"))"
   ]
  },
  {
   "cell_type": "markdown",
   "metadata": {},
   "source": [
    "### String Formatting"
   ]
  },
  {
   "cell_type": "markdown",
   "metadata": {},
   "source": [
    "Strings in python provide a powerful way to format strings on the fly without having to concatenate smaller parts of strings to make up a large one.  \n",
    "Here is an example:"
   ]
  },
  {
   "cell_type": "code",
   "execution_count": 35,
   "metadata": {},
   "outputs": [
    {
     "name": "stdout",
     "output_type": "stream",
     "text": [
      "Hi amish your lucky number is 15\n"
     ]
    }
   ],
   "source": [
    "name = \"amish\"\n",
    "number = len(name) * 3\n",
    "print(\"Hi {} your lucky number is {}\".format(name, number))"
   ]
  },
  {
   "cell_type": "markdown",
   "metadata": {},
   "source": [
    "We used the format method on the string and passed on the variables that we want to substitute the curly braces with **in order**. This leads to the name being substituted for the first curly bracket and the number being substituted for the second curly bracket.  \n",
    "Notice that we didn't have to convert the number from integer to string, the format method does this for us! So glad we have it.\n",
    "\n",
    "But wait, there's even more!  \n",
    "By using certain expressions inside the curly brackets we can further enhance the string formatting operation. Lets have a look."
   ]
  },
  {
   "cell_type": "code",
   "execution_count": 36,
   "metadata": {},
   "outputs": [
    {
     "name": "stdout",
     "output_type": "stream",
     "text": [
      "Your lucky number is 25, amish\n"
     ]
    }
   ],
   "source": [
    "print(\"Your lucky number is {number}, {name}\".format(name=name, number=len(name)*5))"
   ]
  },
  {
   "cell_type": "markdown",
   "metadata": {},
   "source": [
    "Because we are using placeholders for the variable names, the order in which the variables are passed doesn't matter now.  \n",
    "But also notice that we had to modify the way in which we present the variables to the format method as arguments."
   ]
  },
  {
   "cell_type": "code",
   "execution_count": 37,
   "metadata": {},
   "outputs": [
    {
     "name": "stdout",
     "output_type": "stream",
     "text": [
      "Base price: Rs10.50, with tax: Rs11.03\n"
     ]
    }
   ],
   "source": [
    "price = 10.5\n",
    "with_tax = price * 1.05\n",
    "print(\"Base price: Rs{:.2f}, with tax: Rs{:.2f}\".format(price, with_tax))"
   ]
  },
  {
   "cell_type": "markdown",
   "metadata": {},
   "source": [
    "Having three decimal places for price is a bit of overkill as we don't have the smaller denominations anymore. Two decimal places seems reasonable though.  \n",
    "Here we are using what are called formatting expressions inside the curly brckets to round off the values upto two decimal places.  \n",
    "\n",
    "The colon(:) indicates that we are starting our formatting expression.  \n",
    "After the colon, we write .2f \n",
    "- this means we are formatting a float number\n",
    "- there should be two decimal places after the decimal dot\n",
    "\n",
    "Here's another example:"
   ]
  },
  {
   "cell_type": "code",
   "execution_count": 38,
   "metadata": {},
   "outputs": [
    {
     "name": "stdout",
     "output_type": "stream",
     "text": [
      "  0 F | -17.78 C\n",
      " 10 F | -12.22 C\n",
      " 20 F |  -6.67 C\n",
      " 30 F |  -1.11 C\n",
      " 40 F |   4.44 C\n",
      " 50 F |  10.00 C\n",
      " 60 F |  15.56 C\n",
      " 70 F |  21.11 C\n",
      " 80 F |  26.67 C\n",
      " 90 F |  32.22 C\n",
      "100 F |  37.78 C\n"
     ]
    }
   ],
   "source": [
    "def to_celsius(x):\n",
    "    return (x - 32) * 5 / 9\n",
    "\n",
    "for x in range(0, 101, 10):\n",
    "    print(\"{:>3} F | {:>6.2f} C\".format(x, to_celsius(x)))"
   ]
  },
  {
   "cell_type": "markdown",
   "metadata": {},
   "source": [
    "The expressions now contain a greater than sign, that tells the format function that we should align the values to the right.  \n",
    "In the first expression we want the numbers to be aligned to the right for three spaces and six spaces for the second.  \n",
    "We also want the decimal numbers to have two decimal places in the second expression."
   ]
  },
  {
   "cell_type": "markdown",
   "metadata": {},
   "source": [
    "## Lists"
   ]
  },
  {
   "cell_type": "markdown",
   "metadata": {},
   "source": [
    "Lists are another kind of data type that we have used but not really described till now.  \n",
    "Lists help us contain collections of items for example, collections of strings or numbers, etc.  \n",
    "Lists are enclosed in square brackets and the items in a list are separated by a comma."
   ]
  },
  {
   "cell_type": "code",
   "execution_count": 39,
   "metadata": {},
   "outputs": [
    {
     "name": "stdout",
     "output_type": "stream",
     "text": [
      "<class 'list'>\n"
     ]
    }
   ],
   "source": [
    "x = [\"lists\", \"are\", \"awesome\"]\n",
    "print(type(x))"
   ]
  },
  {
   "cell_type": "markdown",
   "metadata": {},
   "source": [
    "Lists and Strings share a lot of features. This is because both of them belong to what are called **sequences** in python.  \n",
    "Sequences have the following properties:\n",
    "- they can be iterated over by using `for` loops\n",
    "- they can be sliced and indexed\n",
    "- `len(sequence)` returns the number of items in sequence\n",
    "- they can be concatenated using the plus sign\n",
    "- they support the use of the `in` keyword\n",
    "\n",
    "Lets have a quick run through these features:"
   ]
  },
  {
   "cell_type": "markdown",
   "metadata": {},
   "source": [
    "**LEN**  \n",
    "`len` returns the number of elements in a list."
   ]
  },
  {
   "cell_type": "code",
   "execution_count": 40,
   "metadata": {},
   "outputs": [
    {
     "name": "stdout",
     "output_type": "stream",
     "text": [
      "3\n"
     ]
    }
   ],
   "source": [
    "print(len(x))"
   ]
  },
  {
   "cell_type": "markdown",
   "metadata": {},
   "source": [
    "**IN**   \n",
    "`in` can be used to check if a given item is present in the list"
   ]
  },
  {
   "cell_type": "code",
   "execution_count": 41,
   "metadata": {},
   "outputs": [
    {
     "name": "stdout",
     "output_type": "stream",
     "text": [
      "True\n"
     ]
    }
   ],
   "source": [
    "print(\"are\" in x)"
   ]
  },
  {
   "cell_type": "markdown",
   "metadata": {},
   "source": [
    "**Indexing**  \n",
    "Lists are indexed the same way are strings.  \n",
    "Lists are also **zero-indexed** and we can create slices of lists."
   ]
  },
  {
   "cell_type": "code",
   "execution_count": 42,
   "metadata": {},
   "outputs": [
    {
     "name": "stdout",
     "output_type": "stream",
     "text": [
      "lists\n"
     ]
    }
   ],
   "source": [
    "print(x[0])"
   ]
  },
  {
   "cell_type": "code",
   "execution_count": 43,
   "metadata": {},
   "outputs": [
    {
     "name": "stdout",
     "output_type": "stream",
     "text": [
      "['lists', 'are', 'awesome']\n"
     ]
    }
   ],
   "source": [
    "print(x[:3])"
   ]
  },
  {
   "cell_type": "code",
   "execution_count": 44,
   "metadata": {},
   "outputs": [
    {
     "name": "stdout",
     "output_type": "stream",
     "text": [
      "['awesome']\n"
     ]
    }
   ],
   "source": [
    "print(x[2:])"
   ]
  },
  {
   "cell_type": "markdown",
   "metadata": {},
   "source": [
    "**Contatenating Lists**"
   ]
  },
  {
   "cell_type": "code",
   "execution_count": 45,
   "metadata": {},
   "outputs": [
    {
     "name": "stdout",
     "output_type": "stream",
     "text": [
      "['lists', 'are', 'awesome']\n"
     ]
    }
   ],
   "source": [
    "print([\"lists\", \"are\"] + [\"awesome\"])"
   ]
  },
  {
   "cell_type": "markdown",
   "metadata": {},
   "source": [
    "### List specific functions"
   ]
  },
  {
   "cell_type": "markdown",
   "metadata": {},
   "source": [
    "Unlike strings, lists are **mutable**, thus we can modify a list in place without having to build it again.  \n",
    "This gives rise to various list specific functions that are helpful in modifying the contents of a list."
   ]
  },
  {
   "cell_type": "markdown",
   "metadata": {},
   "source": [
    "**APPEND**  \n",
    "Adds an element to the end of a list"
   ]
  },
  {
   "cell_type": "code",
   "execution_count": 46,
   "metadata": {},
   "outputs": [
    {
     "name": "stdout",
     "output_type": "stream",
     "text": [
      "['pineapple', 'banana', 'cherry']\n",
      "['pineapple', 'banana', 'cherry', 'apple']\n"
     ]
    }
   ],
   "source": [
    "fruits = [\"pineapple\", \"banana\", \"cherry\"]\n",
    "print(fruits)\n",
    "fruits.append(\"apple\")\n",
    "print(fruits)"
   ]
  },
  {
   "cell_type": "markdown",
   "metadata": {},
   "source": [
    "**INSERT**  \n",
    "Adds an element to a specified index on the list.  \n",
    "If you use an index higher than the current length, the element gets added to the end of the list."
   ]
  },
  {
   "cell_type": "code",
   "execution_count": 47,
   "metadata": {},
   "outputs": [
    {
     "name": "stdout",
     "output_type": "stream",
     "text": [
      "['orange', 'pineapple', 'banana', 'cherry', 'apple']\n"
     ]
    }
   ],
   "source": [
    "fruits.insert(0, \"orange\")\n",
    "print(fruits)"
   ]
  },
  {
   "cell_type": "code",
   "execution_count": 48,
   "metadata": {},
   "outputs": [
    {
     "name": "stdout",
     "output_type": "stream",
     "text": [
      "['orange', 'pineapple', 'banana', 'cherry', 'apple', 'mango']\n"
     ]
    }
   ],
   "source": [
    "fruits.insert(20, \"mango\")\n",
    "print(fruits)"
   ]
  },
  {
   "cell_type": "markdown",
   "metadata": {},
   "source": [
    "**REMOVE**  \n",
    "Removes a given element from the list.  \n",
    "NOTE: You get an error if the element is not present in the list."
   ]
  },
  {
   "cell_type": "code",
   "execution_count": 49,
   "metadata": {},
   "outputs": [
    {
     "name": "stdout",
     "output_type": "stream",
     "text": [
      "['orange', 'pineapple', 'banana', 'cherry', 'mango']\n"
     ]
    }
   ],
   "source": [
    "fruits.remove(\"apple\")\n",
    "print(fruits)"
   ]
  },
  {
   "cell_type": "code",
   "execution_count": 50,
   "metadata": {},
   "outputs": [
    {
     "ename": "ValueError",
     "evalue": "list.remove(x): x not in list",
     "output_type": "error",
     "traceback": [
      "\u001b[1;31m---------------------------------------------------------------------------\u001b[0m",
      "\u001b[1;31mValueError\u001b[0m                                Traceback (most recent call last)",
      "\u001b[1;32m<ipython-input-50-7397810c5480>\u001b[0m in \u001b[0;36m<module>\u001b[1;34m\u001b[0m\n\u001b[1;32m----> 1\u001b[1;33m \u001b[0mfruits\u001b[0m\u001b[1;33m.\u001b[0m\u001b[0mremove\u001b[0m\u001b[1;33m(\u001b[0m\u001b[1;34m\"jackfruit\"\u001b[0m\u001b[1;33m)\u001b[0m\u001b[1;33m\u001b[0m\u001b[1;33m\u001b[0m\u001b[0m\n\u001b[0m",
      "\u001b[1;31mValueError\u001b[0m: list.remove(x): x not in list"
     ]
    }
   ],
   "source": [
    "fruits.remove(\"jackfruit\")"
   ]
  },
  {
   "cell_type": "markdown",
   "metadata": {},
   "source": [
    "**POP**  \n",
    "The pop function removes an element from the provided index."
   ]
  },
  {
   "cell_type": "code",
   "execution_count": 51,
   "metadata": {},
   "outputs": [
    {
     "name": "stdout",
     "output_type": "stream",
     "text": [
      "['orange', 'banana', 'cherry', 'mango']\n"
     ]
    }
   ],
   "source": [
    "fruits.pop(1)\n",
    "print(fruits)"
   ]
  },
  {
   "cell_type": "markdown",
   "metadata": {},
   "source": [
    "**REASSIGNMENT**  \n",
    "Finally, we can reassign values inside a list using indexing."
   ]
  },
  {
   "cell_type": "code",
   "execution_count": 52,
   "metadata": {},
   "outputs": [
    {
     "name": "stdout",
     "output_type": "stream",
     "text": [
      "['apple', 'banana', 'cherry', 'mango']\n"
     ]
    }
   ],
   "source": [
    "fruits[0] = \"apple\"\n",
    "print(fruits)"
   ]
  },
  {
   "cell_type": "markdown",
   "metadata": {},
   "source": [
    "### Lists and Tuples"
   ]
  },
  {
   "cell_type": "markdown",
   "metadata": {},
   "source": [
    "Tuples are also collections of elements like lists, but they are **immutable** like strings.  \n",
    "Tuples are denoted by parentheses, ().  \n",
    "Tuples also belong to the sequence class in python and thus, are considered as sequences.  \n",
    "Thus, we can also index tuples, get their lengths, use the keyword `in` and also iterate over tuples."
   ]
  },
  {
   "cell_type": "markdown",
   "metadata": {},
   "source": [
    "Why tuples?  \n",
    "There may be some cases where we want a collection of items, but we don't want it to be modifyable.  \n",
    "For example, it makes sense to store a name that we know won't change inside a tuple.  \n",
    "If it was present in a list, we could have just changed the value without even realizing or added another item which won't really make any sense."
   ]
  },
  {
   "cell_type": "code",
   "execution_count": 53,
   "metadata": {},
   "outputs": [
    {
     "name": "stdout",
     "output_type": "stream",
     "text": [
      "('arpit', 'omprakash')\n"
     ]
    }
   ],
   "source": [
    "fullname = (\"arpit\", \"omprakash\")\n",
    "print(fullname)"
   ]
  },
  {
   "cell_type": "markdown",
   "metadata": {},
   "source": [
    "On the other hand, functions that return more than one values generally use a tuple to pack the values into.  \n",
    "This prevents the values from being modified while transport.  \n",
    "Remember the following example?"
   ]
  },
  {
   "cell_type": "code",
   "execution_count": 54,
   "metadata": {},
   "outputs": [],
   "source": [
    "def convert_seconds(seconds):\n",
    "    hours = seconds // 3600\n",
    "    minutes = (seconds - hours * 3600) // 60\n",
    "    remaining_seconds = seconds - hours * 3600 - minutes * 60\n",
    "    return hours, minutes, remaining_seconds"
   ]
  },
  {
   "cell_type": "code",
   "execution_count": 55,
   "metadata": {},
   "outputs": [
    {
     "name": "stdout",
     "output_type": "stream",
     "text": [
      "<class 'tuple'>\n",
      "(4, 0, 0)\n"
     ]
    }
   ],
   "source": [
    "result = convert_seconds(14400)\n",
    "print(type(result))\n",
    "print(result)"
   ]
  },
  {
   "cell_type": "markdown",
   "metadata": {},
   "source": [
    "**UNPACKING**  \n",
    "We can turn a tuple of n elements into n different variables.  \n",
    "Let's see an example with the tuple above:"
   ]
  },
  {
   "cell_type": "code",
   "execution_count": 56,
   "metadata": {},
   "outputs": [
    {
     "name": "stdout",
     "output_type": "stream",
     "text": [
      "4 0 0\n"
     ]
    }
   ],
   "source": [
    "hours, minutes, seconds = result\n",
    "print(hours, minutes, seconds)"
   ]
  },
  {
   "cell_type": "markdown",
   "metadata": {},
   "source": [
    "### Iterating over Lists and Tuples\n",
    "\n",
    "As lists and tuples are sequences, we can iterate over them using a `for` loop."
   ]
  },
  {
   "cell_type": "code",
   "execution_count": 57,
   "metadata": {},
   "outputs": [
    {
     "name": "stdout",
     "output_type": "stream",
     "text": [
      "Total characters: 24, Average length: 6.0\n"
     ]
    }
   ],
   "source": [
    "animals = [\"Lion\", \"Zebra\", \"Elephant\", \"Giraffe\"]\n",
    "chars = 0\n",
    "for animal in animals:\n",
    "    chars += len(animal)\n",
    "print(\"Total characters: {}, Average length: {}\".format(chars, chars/len(animals)))"
   ]
  },
  {
   "cell_type": "markdown",
   "metadata": {},
   "source": [
    "We can also use indexing to iterate over a list/tuple and simultaneously use the index for other things in the code.  \n",
    "Here's an example:"
   ]
  },
  {
   "cell_type": "code",
   "execution_count": 58,
   "metadata": {},
   "outputs": [
    {
     "name": "stdout",
     "output_type": "stream",
     "text": [
      "1 - Ashley\n",
      "2 - Dylan\n",
      "3 - Reese\n"
     ]
    }
   ],
   "source": [
    "winners = (\"Ashley\", \"Dylan\", \"Reese\")\n",
    "for index in range(len(winners)):\n",
    "    print(\"{} - {}\".format(index + 1, winners[index]))"
   ]
  },
  {
   "cell_type": "markdown",
   "metadata": {},
   "source": [
    "This is particularly useful if you want to iterate over a list and at the same time modify the list.  \n",
    "For example:"
   ]
  },
  {
   "cell_type": "code",
   "execution_count": 59,
   "metadata": {},
   "outputs": [
    {
     "name": "stdout",
     "output_type": "stream",
     "text": [
      "['Rob Hudson', 'Tom Hudson', 'Harry Hudson']\n"
     ]
    }
   ],
   "source": [
    "family = [\"Rob\", \"Tom\", \"Harry\"]\n",
    "\n",
    "for index in range(len(family)):\n",
    "    family[index] = family[index] + \" Hudson\"\n",
    "print(family)"
   ]
  },
  {
   "cell_type": "markdown",
   "metadata": {},
   "source": [
    "**CAUTION**  \n",
    "However, you should be really careful while iterating over a list and removing items.  \n",
    "This may lead to some really weird effects and errors:"
   ]
  },
  {
   "cell_type": "code",
   "execution_count": 60,
   "metadata": {},
   "outputs": [
    {
     "ename": "IndexError",
     "evalue": "list index out of range",
     "output_type": "error",
     "traceback": [
      "\u001b[1;31m---------------------------------------------------------------------------\u001b[0m",
      "\u001b[1;31mIndexError\u001b[0m                                Traceback (most recent call last)",
      "\u001b[1;32m<ipython-input-60-6634b19ba0be>\u001b[0m in \u001b[0;36m<module>\u001b[1;34m\u001b[0m\n\u001b[0;32m      1\u001b[0m \u001b[0mnumbers\u001b[0m \u001b[1;33m=\u001b[0m \u001b[1;33m[\u001b[0m\u001b[1;34m'1'\u001b[0m\u001b[1;33m,\u001b[0m \u001b[1;34m'2'\u001b[0m\u001b[1;33m,\u001b[0m \u001b[1;34m'3'\u001b[0m\u001b[1;33m,\u001b[0m \u001b[1;34m'4'\u001b[0m\u001b[1;33m,\u001b[0m \u001b[1;34m'5'\u001b[0m\u001b[1;33m,\u001b[0m \u001b[1;34m'6'\u001b[0m\u001b[1;33m,\u001b[0m \u001b[1;34m'7'\u001b[0m\u001b[1;33m,\u001b[0m \u001b[1;34m'8'\u001b[0m\u001b[1;33m,\u001b[0m \u001b[1;34m'9'\u001b[0m\u001b[1;33m,\u001b[0m \u001b[1;34m'10'\u001b[0m\u001b[1;33m]\u001b[0m\u001b[1;33m\u001b[0m\u001b[1;33m\u001b[0m\u001b[0m\n\u001b[0;32m      2\u001b[0m \u001b[1;32mfor\u001b[0m \u001b[0mindex\u001b[0m \u001b[1;32min\u001b[0m \u001b[0mrange\u001b[0m\u001b[1;33m(\u001b[0m\u001b[0mlen\u001b[0m\u001b[1;33m(\u001b[0m\u001b[0mnumbers\u001b[0m\u001b[1;33m)\u001b[0m\u001b[1;33m)\u001b[0m\u001b[1;33m:\u001b[0m\u001b[1;33m\u001b[0m\u001b[1;33m\u001b[0m\u001b[0m\n\u001b[1;32m----> 3\u001b[1;33m     \u001b[0mnumbers\u001b[0m\u001b[1;33m.\u001b[0m\u001b[0mremove\u001b[0m\u001b[1;33m(\u001b[0m\u001b[0mnumbers\u001b[0m\u001b[1;33m[\u001b[0m\u001b[0mindex\u001b[0m\u001b[1;33m]\u001b[0m\u001b[1;33m)\u001b[0m\u001b[1;33m\u001b[0m\u001b[1;33m\u001b[0m\u001b[0m\n\u001b[0m\u001b[0;32m      4\u001b[0m \u001b[0mprint\u001b[0m\u001b[1;33m(\u001b[0m\u001b[0mnumbers\u001b[0m\u001b[1;33m)\u001b[0m\u001b[1;33m\u001b[0m\u001b[1;33m\u001b[0m\u001b[0m\n",
      "\u001b[1;31mIndexError\u001b[0m: list index out of range"
     ]
    }
   ],
   "source": [
    "numbers = ['1', '2', '3', '4', '5', '6', '7', '8', '9', '10']\n",
    "for index in range(len(numbers)):\n",
    "    numbers.remove(numbers[index])\n",
    "print(numbers)"
   ]
  },
  {
   "cell_type": "markdown",
   "metadata": {},
   "source": [
    "It is wise to use a copy of the list while removing elements and iterating over them.  \n",
    "You can find more about why this happens [here](https://docs.python.org/2/tutorial/controlflow.html#for-statements)"
   ]
  },
  {
   "cell_type": "code",
   "execution_count": 61,
   "metadata": {},
   "outputs": [
    {
     "name": "stdout",
     "output_type": "stream",
     "text": [
      "[]\n"
     ]
    }
   ],
   "source": [
    "numbers = ['1', '2', '3', '4', '5', '6', '7', '8', '9', '10']\n",
    "numbers_copy = numbers.copy()\n",
    "for index in range(len(numbers_copy)):\n",
    "    numbers.remove(numbers_copy[index])\n",
    "print(numbers)"
   ]
  },
  {
   "cell_type": "markdown",
   "metadata": {},
   "source": [
    "**Enumerate**  \n",
    "We can also use the `enumerate` function to get the index and item simultaneously from a list/tuple."
   ]
  },
  {
   "cell_type": "code",
   "execution_count": 62,
   "metadata": {},
   "outputs": [
    {
     "name": "stdout",
     "output_type": "stream",
     "text": [
      "1 - Ashley\n",
      "2 - Dylan\n",
      "3 - Reese\n"
     ]
    }
   ],
   "source": [
    "for index, person in enumerate(winners):\n",
    "    print(\"{} - {}\".format(index + 1, person))"
   ]
  },
  {
   "cell_type": "markdown",
   "metadata": {},
   "source": [
    "A slightly complex example:  \n",
    "\n",
    "Suppose we get a list of names and email addresses and we have to format it to a different format.  \n",
    "*Input:*  \n",
    "[(name1, email1), (name2, email2), (name3, email3)]  \n",
    "*Output:*  \n",
    "[name1\\<email1>, name2\\<email2>, name3\\<email3>]"
   ]
  },
  {
   "cell_type": "code",
   "execution_count": 63,
   "metadata": {},
   "outputs": [
    {
     "name": "stdout",
     "output_type": "stream",
     "text": [
      "['Robin<robin@gmail.com>', 'Usain<bolt@gmail.com>', 'Alan<turing@gmail.com>']\n"
     ]
    }
   ],
   "source": [
    "old_list = [(\"Robin\", \"robin@gmail.com\"), (\"Usain\", \"bolt@gmail.com\"), (\"Alan\", \"turing@gmail.com\")]\n",
    "new_list = []\n",
    "for name, email in old_list:\n",
    "    new_list.append(name + \"<\" + email + \">\")\n",
    "print(new_list)"
   ]
  },
  {
   "cell_type": "markdown",
   "metadata": {},
   "source": [
    "### List Comprehensions"
   ]
  },
  {
   "cell_type": "markdown",
   "metadata": {},
   "source": [
    "We generally use a `for` loop for creating lists based on sequences.  \n",
    "For example:"
   ]
  },
  {
   "cell_type": "code",
   "execution_count": 64,
   "metadata": {},
   "outputs": [
    {
     "name": "stdout",
     "output_type": "stream",
     "text": [
      "[0, 7, 14, 21, 28, 35, 42, 49, 56, 63]\n"
     ]
    }
   ],
   "source": [
    "multiples = []\n",
    "for i in range(10):\n",
    "    multiples.append(7 * i)\n",
    "print(multiples)"
   ]
  },
  {
   "cell_type": "markdown",
   "metadata": {},
   "source": [
    "Because creating lists like this is a pretty routine task, Python offers a simpler way to do it. Using List Comprehensions.  \n",
    "The syntax is as follows:\n",
    "```\n",
    "[item for item in sequence]\n",
    "```\n",
    "\n",
    "Here's an example to make things clearer:"
   ]
  },
  {
   "cell_type": "code",
   "execution_count": 65,
   "metadata": {},
   "outputs": [
    {
     "name": "stdout",
     "output_type": "stream",
     "text": [
      "[0, 7, 14, 21, 28, 35, 42, 49, 56, 63]\n"
     ]
    }
   ],
   "source": [
    "new_multiples = [7 * i for i in range(10)]\n",
    "print(new_multiples)"
   ]
  },
  {
   "cell_type": "markdown",
   "metadata": {},
   "source": [
    "We can also use conditionals in list comprehensions to create much complex lists in one line.  \n",
    "For example, creating the list of multiples of three less than a hundred."
   ]
  },
  {
   "cell_type": "code",
   "execution_count": 66,
   "metadata": {},
   "outputs": [
    {
     "name": "stdout",
     "output_type": "stream",
     "text": [
      "[3, 6, 9, 12, 15, 18, 21, 24, 27, 30, 33, 36, 39, 42, 45, 48, 51, 54, 57, 60, 63, 66, 69, 72, 75, 78, 81, 84, 87, 90, 93, 96, 99]\n"
     ]
    }
   ],
   "source": [
    "multiple_of_3 = [x for x in range(1, 101) if x % 3 == 0]\n",
    "print(multiple_of_3)"
   ]
  },
  {
   "cell_type": "markdown",
   "metadata": {},
   "source": [
    "## Dictionaries\n",
    "\n",
    "Like lists, dictionaries are collections of data.  \n",
    "Unlike lists, however, the data inside dictionaries take the form of pairs of keys and values.  \n",
    "To get the value from a dictionary, we use the key.  \n",
    "\n",
    "The term dictionary comes from how dictionaries work in the real world.  \n",
    "We search for a given word(key) and then pull out its meaning(value) from the dictionary.\n",
    "\n",
    "A dictionary is created by enclosing it in curly brackets {}.  \n",
    "We just pass in the key value pairs to a dictionary separating the keys and values by a colon(:).  \n",
    "It should be noted that any data type can be the key and any other data type can be a value. But the key should be unique and immutable for proper functionality."
   ]
  },
  {
   "cell_type": "code",
   "execution_count": 67,
   "metadata": {},
   "outputs": [
    {
     "name": "stdout",
     "output_type": "stream",
     "text": [
      "<class 'dict'>\n",
      "{'jpg': 10, 'txt': 30, 'csv': 3, 'py': 50}\n"
     ]
    }
   ],
   "source": [
    "file_counts = {\"jpg\": 10, \"txt\": 30, \"csv\": 3, \"py\":50}\n",
    "print(type(file_counts))\n",
    "print(file_counts)"
   ]
  },
  {
   "cell_type": "markdown",
   "metadata": {},
   "source": [
    "We can access values by querying the keys to the dictionary."
   ]
  },
  {
   "cell_type": "code",
   "execution_count": 68,
   "metadata": {},
   "outputs": [
    {
     "name": "stdout",
     "output_type": "stream",
     "text": [
      "50\n"
     ]
    }
   ],
   "source": [
    "print(file_counts['py'])"
   ]
  },
  {
   "cell_type": "markdown",
   "metadata": {},
   "source": [
    "We can also use the `in` keyword to check if a key is present in a dictionary."
   ]
  },
  {
   "cell_type": "code",
   "execution_count": 69,
   "metadata": {},
   "outputs": [
    {
     "name": "stdout",
     "output_type": "stream",
     "text": [
      "True\n"
     ]
    }
   ],
   "source": [
    "print('jpg' in file_counts)"
   ]
  },
  {
   "cell_type": "markdown",
   "metadata": {},
   "source": [
    "### Modifying Dictionaries\n",
    "\n",
    "Dictionaries are **mutable**, thus we can change the contents of a dictionary easily.  \n",
    "We can add entries by simply creating a new key value pair as follows:"
   ]
  },
  {
   "cell_type": "code",
   "execution_count": 70,
   "metadata": {},
   "outputs": [
    {
     "name": "stdout",
     "output_type": "stream",
     "text": [
      "{'jpg': 10, 'txt': 30, 'csv': 3, 'py': 50, 'png': 5}\n"
     ]
    }
   ],
   "source": [
    "file_counts['png'] = 5\n",
    "print(file_counts)"
   ]
  },
  {
   "cell_type": "markdown",
   "metadata": {},
   "source": [
    "Adding values to existing keys overwrites the values!"
   ]
  },
  {
   "cell_type": "code",
   "execution_count": 71,
   "metadata": {},
   "outputs": [
    {
     "name": "stdout",
     "output_type": "stream",
     "text": [
      "{'jpg': 10, 'txt': 30, 'csv': 3, 'py': 28, 'png': 5}\n"
     ]
    }
   ],
   "source": [
    "file_counts['py'] = 28\n",
    "print(file_counts)"
   ]
  },
  {
   "cell_type": "markdown",
   "metadata": {},
   "source": [
    "We use the `del` keyword to delete keys from the dictionary."
   ]
  },
  {
   "cell_type": "code",
   "execution_count": 72,
   "metadata": {},
   "outputs": [
    {
     "name": "stdout",
     "output_type": "stream",
     "text": [
      "{'jpg': 10, 'csv': 3, 'py': 28, 'png': 5}\n"
     ]
    }
   ],
   "source": [
    "del file_counts['txt']\n",
    "print(file_counts)"
   ]
  },
  {
   "cell_type": "markdown",
   "metadata": {},
   "source": [
    "### Iterating over Dictionaries  \n",
    "\n",
    "We can also use a `for` loop to iterate over a dictionary."
   ]
  },
  {
   "cell_type": "code",
   "execution_count": 73,
   "metadata": {},
   "outputs": [
    {
     "name": "stdout",
     "output_type": "stream",
     "text": [
      "jpg\n",
      "csv\n",
      "py\n",
      "png\n"
     ]
    }
   ],
   "source": [
    "for extensions in file_counts:\n",
    "    print(extensions)"
   ]
  },
  {
   "cell_type": "markdown",
   "metadata": {},
   "source": [
    "We can also get the values by using the keys inside our `for` loop body.  \n",
    "Or we can use a function called `items()` to get a key-value pair from the dictionary."
   ]
  },
  {
   "cell_type": "code",
   "execution_count": 74,
   "metadata": {},
   "outputs": [
    {
     "name": "stdout",
     "output_type": "stream",
     "text": [
      "jpg 10\n",
      "csv 3\n",
      "py 28\n",
      "png 5\n"
     ]
    }
   ],
   "source": [
    "for extensions in file_counts:\n",
    "    print(extensions, file_counts[extensions])"
   ]
  },
  {
   "cell_type": "code",
   "execution_count": 75,
   "metadata": {},
   "outputs": [
    {
     "name": "stdout",
     "output_type": "stream",
     "text": [
      "jpg 10\n",
      "csv 3\n",
      "py 28\n",
      "png 5\n"
     ]
    }
   ],
   "source": [
    "for extensions, counts in file_counts.items():\n",
    "    print(extensions, counts)"
   ]
  },
  {
   "cell_type": "markdown",
   "metadata": {},
   "source": [
    "We can even access just the keys or values of a dictionary by using the `keys()` and `values()` methods."
   ]
  },
  {
   "cell_type": "code",
   "execution_count": 76,
   "metadata": {},
   "outputs": [
    {
     "name": "stdout",
     "output_type": "stream",
     "text": [
      "jpg\n",
      "csv\n",
      "py\n",
      "png\n"
     ]
    }
   ],
   "source": [
    "for key in file_counts.keys():\n",
    "    print(key)"
   ]
  },
  {
   "cell_type": "code",
   "execution_count": 77,
   "metadata": {},
   "outputs": [
    {
     "name": "stdout",
     "output_type": "stream",
     "text": [
      "10\n",
      "3\n",
      "28\n",
      "5\n"
     ]
    }
   ],
   "source": [
    "for value in file_counts.values():\n",
    "    print(value)"
   ]
  },
  {
   "cell_type": "markdown",
   "metadata": {},
   "source": [
    "**An example**  \n",
    "Counting frequencies.  \n",
    "Count the frequency of letters in a given string."
   ]
  },
  {
   "cell_type": "code",
   "execution_count": 78,
   "metadata": {},
   "outputs": [],
   "source": [
    "def count_letters(word):\n",
    "    result = {}\n",
    "    for letter in word:\n",
    "        if letter not in result:\n",
    "            result[letter] = 1\n",
    "        else:\n",
    "            result[letter] += 1\n",
    "    return result"
   ]
  },
  {
   "cell_type": "code",
   "execution_count": 79,
   "metadata": {},
   "outputs": [
    {
     "name": "stdout",
     "output_type": "stream",
     "text": [
      "{'p': 1, 'y': 1, 't': 1, 'h': 1, 'o': 1, 'n': 1}\n"
     ]
    }
   ],
   "source": [
    "print(count_letters(\"python\"))"
   ]
  },
  {
   "cell_type": "code",
   "execution_count": 80,
   "metadata": {},
   "outputs": [
    {
     "name": "stdout",
     "output_type": "stream",
     "text": [
      "{'t': 2, 'h': 1, 'i': 2, 's': 3, ' ': 4, 'a': 2, 'l': 1, 'r': 1, 'g': 1, 'e': 4, 'n': 2, 'c': 1}\n"
     ]
    }
   ],
   "source": [
    "print(count_letters(\"this is a large sentence\"))"
   ]
  },
  {
   "cell_type": "markdown",
   "metadata": {},
   "source": [
    "## Dictionaries or Lists?\n",
    "\n",
    "What is best for a given condition?"
   ]
  },
  {
   "cell_type": "markdown",
   "metadata": {},
   "source": [
    "Think about the data you want to store.  \n",
    "If you've got a list of information that you need to collect or store, it is better to store them as a list.  \n",
    "Suppose you have a list of name of people attending college with you. This is a typical case where you would like to use a list.  \n",
    "On the other hand, if it is a list to a party and each person can bring in some number of guests, then you might want to store them in a dictionary where keys are the persons and values are number of people coming with them."
   ]
  },
  {
   "cell_type": "markdown",
   "metadata": {},
   "source": [
    "Because of the way dictionaries work, it is pretty efficient to search for things inside a dictionary.  \n",
    "If you have a dictionary and you want to check if one element is present in the dictionary, it will take the same amount of time regardless of whether the dictionary has 10 elements or 10,000 elements.  \n",
    "But in the case of a list, searching for an element in a list of 10 items is pretty fast compared to searching for a given item in a list of 10,000 items.\n",
    "\n",
    "So in general, if you want to search if a specific item is present, it is better to use a dictionary to store your data."
   ]
  },
  {
   "cell_type": "markdown",
   "metadata": {},
   "source": [
    "In lists we can store any data type.  \n",
    "This is the same for values in dictionary, but the keys need to be immutable variables (not lists or dictionaries).  \n",
    "Thus, there is ample space to create complex datasets using the various data types that python offers.  \n",
    "Try to experiment and use both lists and dictionaries initally for different cases till you feel good enough to judge which will be a better fit in a given case."
   ]
  }
 ],
 "metadata": {
  "kernelspec": {
   "display_name": "Python 3",
   "language": "python",
   "name": "python3"
  },
  "language_info": {
   "codemirror_mode": {
    "name": "ipython",
    "version": 3
   },
   "file_extension": ".py",
   "mimetype": "text/x-python",
   "name": "python",
   "nbconvert_exporter": "python",
   "pygments_lexer": "ipython3",
   "version": "3.8.3"
  }
 },
 "nbformat": 4,
 "nbformat_minor": 4
}
