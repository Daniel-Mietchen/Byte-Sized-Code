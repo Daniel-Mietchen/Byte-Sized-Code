{
 "cells": [
  {
   "cell_type": "markdown",
   "metadata": {},
   "source": [
    "# Working with Files and Directories in Python\n",
    "\n",
    "**By Arpit Omprakash, Byte Sized Code**"
   ]
  },
  {
   "cell_type": "markdown",
   "metadata": {},
   "source": [
    "## Files"
   ]
  },
  {
   "cell_type": "markdown",
   "metadata": {},
   "source": [
    "**Import os module for working with files**\n",
    "\n",
    "The `os` module contains functions that we can use to interact appropriately with our operating system.  \n",
    "It contains functions that let us manipulate and manage files as if we were working in our native os \"shell.\""
   ]
  },
  {
   "cell_type": "code",
   "execution_count": 48,
   "metadata": {},
   "outputs": [],
   "source": [
    "import os"
   ]
  },
  {
   "cell_type": "markdown",
   "metadata": {},
   "source": [
    "**Creating a file**\n",
    "\n",
    "We can use the built-in function `open` to create a file in python.  \n",
    "`open` takes in two arguments:\n",
    "* filename - This can be the absolute or relative path to the file you want to access\n",
    "* mode - The mode for accessing the file\n",
    "\n",
    "The \"w+\" mode is composed of \"w\" and \"+\".\n",
    "* the 'w' indicates we want to write to a file\n",
    "* the '+' instructs python to create a file if not present currently\n",
    "\n",
    "**Opening and Closing Files**\n",
    "\n",
    "Just like you would with any other application (or the default file viewer), while using python we have to open and close files. Opening files help us to manipulate them and closing them tells the `os` that we don't need to deal with the files anymore. The `os` then allows other applications to access the file and frees up any resources that would have been used otherwise."
   ]
  },
  {
   "cell_type": "code",
   "execution_count": 49,
   "metadata": {},
   "outputs": [],
   "source": [
    "f = open(\"first_draft.txt\", \"w+\")\n",
    "f.close()"
   ]
  },
  {
   "cell_type": "markdown",
   "metadata": {},
   "source": [
    "**Writing to a file**\n",
    "\n",
    "As mentioned above, we can use only the \"w\" to indicate that we want to write to the file.  \n",
    "Then, we write to the file using the `file.write()` function."
   ]
  },
  {
   "cell_type": "code",
   "execution_count": 50,
   "metadata": {},
   "outputs": [],
   "source": [
    "f = open(\"first_draft.txt\", \"w\")\n",
    "f.write(\"Twinkle twinkle little star \\nHow I wonder what you are? \\n\")\n",
    "f.close()"
   ]
  },
  {
   "cell_type": "markdown",
   "metadata": {},
   "source": [
    "**Appending to a file**\n",
    "\n",
    "There is a major issue (according to me) in how we write to files in python.  \n",
    "If you run the above cell again, contrary to what you might expect, the output is the same as before.  \n",
    "The \"w\" mode always clears a file before opening it in write mode.  \n",
    "Thus, writing to a file is technically \"overwriting.\"\n",
    "\n",
    "*But what if we want to just add things at the end of a file?*  \n",
    "We use another mode for the same, called the \"append\" mode and it is indicated by an \"a.\""
   ]
  },
  {
   "cell_type": "code",
   "execution_count": 51,
   "metadata": {},
   "outputs": [],
   "source": [
    "with open(\"first_draft.txt\", \"a\") as f:\n",
    "    f.write(\"Up above the world so high \\nLike a diamond in the sky\")"
   ]
  },
  {
   "cell_type": "markdown",
   "metadata": {},
   "source": [
    "Ah, the `with` keyword.  \n",
    "In the last cell, we basically use a python keyword called `with` to handle the file opening and closing by itself. Thus, we don't have to remember to open and close our files manually. The only downside is that, we have to write all our file manipulation code inside the `with` block.\n",
    "\n",
    "The `with` keyword belongs to something called a **context manager** in Python. Context Managers help simplify the resource use and allocation in our python operations. You can read more about context managers [here](https://book.pythontips.com/en/latest/context_managers.html)"
   ]
  },
  {
   "cell_type": "markdown",
   "metadata": {},
   "source": [
    "**Reading data from a file**\n",
    "\n",
    "Now that we know how to write and append to a file, let's learn how we can get data from a file.  \n",
    "We use the \"read\" or \"r\" mode to read data from a file."
   ]
  },
  {
   "cell_type": "code",
   "execution_count": 52,
   "metadata": {},
   "outputs": [
    {
     "name": "stdout",
     "output_type": "stream",
     "text": [
      "Twinkle twinkle little star \n",
      "\n",
      "How I wonder what you are? \n",
      "\n",
      "Up above the world so high \n",
      "\n",
      "Like a diamond in the sky\n"
     ]
    }
   ],
   "source": [
    "with open(\"first_draft.txt\", \"r\") as f:\n",
    "    for line in f:\n",
    "        print(line)"
   ]
  },
  {
   "cell_type": "markdown",
   "metadata": {},
   "source": [
    "**Renaming a file**\n",
    "\n",
    "We can use the intuitive `os.rename()` function to rename files.  \n",
    "The rename function takes two arguments,\n",
    "* filename (and location)\n",
    "* new name (and location)\n",
    "\n",
    "The location can be relative or absolute."
   ]
  },
  {
   "cell_type": "code",
   "execution_count": 53,
   "metadata": {},
   "outputs": [],
   "source": [
    "os.rename(\"first_draft.txt\", \"rhyme.txt\")"
   ]
  },
  {
   "cell_type": "markdown",
   "metadata": {},
   "source": [
    "**Checking the size of a file**\n",
    "\n",
    "The `os.path.getsize()` returns the size of the file in bytes.  \n",
    "It takes the absolute/relative path to the file."
   ]
  },
  {
   "cell_type": "code",
   "execution_count": 54,
   "metadata": {},
   "outputs": [
    {
     "data": {
      "text/plain": [
       "113"
      ]
     },
     "execution_count": 54,
     "metadata": {},
     "output_type": "execute_result"
    }
   ],
   "source": [
    "os.path.getsize(\"rhyme.txt\")"
   ]
  },
  {
   "cell_type": "markdown",
   "metadata": {},
   "source": [
    "**Check when a file was last modified**\n",
    "\n",
    "We can use the `os.path.getmtime()` function to get the time when a given file was last modified.  \n",
    "The function takes the absolute/relative path to the file as the argument.  \n",
    "The function returns a [UNIX timestamp](https://en.wikipedia.org/wiki/Unix_time) which we can convert into a more readable format by using the `datetime` library."
   ]
  },
  {
   "cell_type": "code",
   "execution_count": 55,
   "metadata": {},
   "outputs": [
    {
     "data": {
      "text/plain": [
       "datetime.datetime(2020, 9, 10, 20, 29, 16, 503171)"
      ]
     },
     "execution_count": 55,
     "metadata": {},
     "output_type": "execute_result"
    }
   ],
   "source": [
    "import datetime\n",
    "\n",
    "timestamp = os.path.getmtime(\"rhyme.txt\")\n",
    "datetime.datetime.fromtimestamp(timestamp)"
   ]
  },
  {
   "cell_type": "markdown",
   "metadata": {},
   "source": [
    "**Check if a file exists**\n",
    "\n",
    "There are two functions that can check whether a file exists.  \n",
    "Both the functions are present in the `path` submodule and take the file path as input.\n",
    "\n",
    "The first is the `isfile()` function and the second is the `exists()` function.  \n",
    "They return `True` if the file is present and `False` otherwise."
   ]
  },
  {
   "cell_type": "code",
   "execution_count": 56,
   "metadata": {},
   "outputs": [
    {
     "data": {
      "text/plain": [
       "False"
      ]
     },
     "execution_count": 56,
     "metadata": {},
     "output_type": "execute_result"
    }
   ],
   "source": [
    "os.path.isfile(\"first_draft.txt\")"
   ]
  },
  {
   "cell_type": "code",
   "execution_count": 57,
   "metadata": {},
   "outputs": [
    {
     "data": {
      "text/plain": [
       "True"
      ]
     },
     "execution_count": 57,
     "metadata": {},
     "output_type": "execute_result"
    }
   ],
   "source": [
    "os.path.exists(\"rhyme.txt\")"
   ]
  },
  {
   "cell_type": "markdown",
   "metadata": {},
   "source": [
    "**Get absolute path to a file**\n",
    "\n",
    "The `os.path.abspath()` function is used to return the absolute path to a given file. It takes the relative path as input."
   ]
  },
  {
   "cell_type": "code",
   "execution_count": 58,
   "metadata": {},
   "outputs": [
    {
     "name": "stdout",
     "output_type": "stream",
     "text": [
      "C:\\Users\\ARPIT\\Documents\\GitHub\\Byte-Sized-Code\\Python-Notebooks\\rhyme.txt\n"
     ]
    }
   ],
   "source": [
    "print(os.path.abspath(\"rhyme.txt\"))"
   ]
  },
  {
   "cell_type": "markdown",
   "metadata": {},
   "source": [
    "**Deleting a file**\n",
    "\n",
    "The `os.remove()` function takes in the path to a given file and then deletes the file."
   ]
  },
  {
   "cell_type": "code",
   "execution_count": 59,
   "metadata": {},
   "outputs": [
    {
     "data": {
      "text/plain": [
       "False"
      ]
     },
     "execution_count": 59,
     "metadata": {},
     "output_type": "execute_result"
    }
   ],
   "source": [
    "os.remove(\"rhyme.txt\")\n",
    "os.path.exists(\"rhyme.txt\")"
   ]
  },
  {
   "cell_type": "markdown",
   "metadata": {},
   "source": [
    "## Directories"
   ]
  },
  {
   "cell_type": "markdown",
   "metadata": {},
   "source": [
    "**Show the files in the current directory**\n",
    "\n",
    "The `os.listdir()` function lists all the files and sub-directories at a given directory.  \n",
    "By default it returns files in the current directory, but you can supply it with the absolute/relative path to any other directory and get information regarding the same.\n",
    "\n",
    "The **`os.path.isdir()`** function let's us know if a given item is a directory or not.  \n",
    "If the provided object is a directory, it returns `True` else it returns `False`."
   ]
  },
  {
   "cell_type": "code",
   "execution_count": 60,
   "metadata": {
    "scrolled": true
   },
   "outputs": [
    {
     "data": {
      "text/plain": [
       "['.ipynb_checkpoints', 'venv', 'Working with Files.ipynb']"
      ]
     },
     "execution_count": 60,
     "metadata": {},
     "output_type": "execute_result"
    }
   ],
   "source": [
    "os.listdir()"
   ]
  },
  {
   "cell_type": "code",
   "execution_count": 61,
   "metadata": {},
   "outputs": [
    {
     "name": "stdout",
     "output_type": "stream",
     "text": [
      ".ipynb_checkpoints is a directory\n",
      "venv is a directory\n",
      "Working with Files.ipynb is a file\n"
     ]
    }
   ],
   "source": [
    "# print if a given item is directory or file in the working directory\n",
    "dir = os.getcwd()\n",
    "for name in os.listdir(dir):\n",
    "    if os.path.isdir(name):\n",
    "        print(\"{} is a directory\".format(name))\n",
    "    else:\n",
    "        print(\"{} is a file\".format(name))"
   ]
  },
  {
   "cell_type": "markdown",
   "metadata": {},
   "source": [
    "**Current directory**\n",
    "\n",
    "We can get the path to the current directory (the directory we are currently in) by using the `os.getcwd()` function."
   ]
  },
  {
   "cell_type": "code",
   "execution_count": 62,
   "metadata": {},
   "outputs": [
    {
     "name": "stdout",
     "output_type": "stream",
     "text": [
      "C:\\Users\\ARPIT\\Documents\\GitHub\\Byte-Sized-Code\\Python-Notebooks\n"
     ]
    }
   ],
   "source": [
    "print(os.getcwd())"
   ]
  },
  {
   "cell_type": "markdown",
   "metadata": {},
   "source": [
    "**Create a new directory**\n",
    "\n",
    "We can use the `os.mkdir()` function to create a new directory.  \n",
    "The function takes the name of the directory that we want to create as input."
   ]
  },
  {
   "cell_type": "code",
   "execution_count": 63,
   "metadata": {},
   "outputs": [
    {
     "data": {
      "text/plain": [
       "['.ipynb_checkpoints', 'new_dir', 'venv', 'Working with Files.ipynb']"
      ]
     },
     "execution_count": 63,
     "metadata": {},
     "output_type": "execute_result"
    }
   ],
   "source": [
    "os.mkdir(\"new_dir\")\n",
    "os.listdir()"
   ]
  },
  {
   "cell_type": "markdown",
   "metadata": {},
   "source": [
    "**Change working directory**\n",
    "\n",
    "We can also change the directory we are working in from our python shell!  \n",
    "The `os.chdir()` function takes in the path to the directory that we want to go to and then changes the current directory to the one provided."
   ]
  },
  {
   "cell_type": "code",
   "execution_count": 64,
   "metadata": {},
   "outputs": [
    {
     "name": "stdout",
     "output_type": "stream",
     "text": [
      "C:\\Users\\ARPIT\\Documents\\GitHub\\Byte-Sized-Code\\Python-Notebooks\\new_dir\n",
      "C:\\Users\\ARPIT\\Documents\\GitHub\\Byte-Sized-Code\\Python-Notebooks\n"
     ]
    }
   ],
   "source": [
    "os.chdir(\"new_dir\")\n",
    "print(os.getcwd())\n",
    "os.chdir(\"..\")\n",
    "print(os.getcwd())"
   ]
  },
  {
   "cell_type": "markdown",
   "metadata": {},
   "source": [
    "**Remove a directory**\n",
    "\n",
    "The `os.rmdir()` function takes in the path to the directory that we want to remove and then deletes the directory.  \n",
    "rmdir works only if directory is empty. Otherwise we have to remove all the sub directories and files before we can remove the directory"
   ]
  },
  {
   "cell_type": "code",
   "execution_count": 65,
   "metadata": {},
   "outputs": [
    {
     "data": {
      "text/plain": [
       "['.ipynb_checkpoints', 'venv', 'Working with Files.ipynb']"
      ]
     },
     "execution_count": 65,
     "metadata": {},
     "output_type": "execute_result"
    }
   ],
   "source": [
    "os.rmdir(\"new_dir\")\n",
    "os.listdir()"
   ]
  }
 ],
 "metadata": {
  "kernelspec": {
   "display_name": "Python 3",
   "language": "python",
   "name": "python3"
  },
  "language_info": {
   "codemirror_mode": {
    "name": "ipython",
    "version": 3
   },
   "file_extension": ".py",
   "mimetype": "text/x-python",
   "name": "python",
   "nbconvert_exporter": "python",
   "pygments_lexer": "ipython3",
   "version": "3.8.3"
  }
 },
 "nbformat": 4,
 "nbformat_minor": 4
}
