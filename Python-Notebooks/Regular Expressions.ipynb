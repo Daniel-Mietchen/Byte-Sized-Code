{
 "cells": [
  {
   "cell_type": "markdown",
   "metadata": {},
   "source": [
    "# Regular Expressions in Python\n",
    "\n",
    "**By Arpit Omprakash, Byte Sized Code**"
   ]
  },
  {
   "cell_type": "markdown",
   "metadata": {},
   "source": [
    "## Basic RegExp"
   ]
  },
  {
   "cell_type": "markdown",
   "metadata": {},
   "source": [
    "**What is a Regular Expression?**  \n",
    "A Regular Expression (a.k.a. regex or regexp) is essentially a search query for text that's expressed by a string pattern.  \n",
    "When you run a search against a particular piece of text, anything that matches a regular expression pattern you specified, is returned as a result of the search.  \n",
    "They allow us to search a text for strings matching a specific pattern."
   ]
  },
  {
   "cell_type": "markdown",
   "metadata": {},
   "source": [
    "**Module**  \n",
    "First we need to import the `re` module in python that lets us create and deal with regular expression."
   ]
  },
  {
   "cell_type": "code",
   "execution_count": 34,
   "metadata": {},
   "outputs": [],
   "source": [
    "import re"
   ]
  },
  {
   "cell_type": "markdown",
   "metadata": {},
   "source": [
    "**Search**  \n",
    "\n",
    "Most of what we do with regex in python can be accomplished by using the `re.search()` function.  \n",
    "We provide two arguments to the function:  \n",
    "- A regex pattern\n",
    "- A string to match  "
   ]
  },
  {
   "cell_type": "code",
   "execution_count": 35,
   "metadata": {},
   "outputs": [
    {
     "name": "stdout",
     "output_type": "stream",
     "text": [
      "<re.Match object; span=(2, 5), match='zza'>\n"
     ]
    }
   ],
   "source": [
    "result = re.search(r\"zza\", \"pizza\")\n",
    "print(result)"
   ]
  },
  {
   "cell_type": "code",
   "execution_count": 36,
   "metadata": {},
   "outputs": [
    {
     "name": "stdout",
     "output_type": "stream",
     "text": [
      "<re.Match object; span=(3, 6), match='zza'>\n"
     ]
    }
   ],
   "source": [
    "result = re.search(r\"zza\", \"youzza\")\n",
    "print(result)"
   ]
  },
  {
   "cell_type": "markdown",
   "metadata": {},
   "source": [
    "As we can see above, when there is a match, `re` returns a `re.Match` object.  \n",
    "It consists of a `span` that lets us know where the match occured in the given string.  \n",
    "And a `match`, that shows the exact match that was found.\n",
    "\n",
    "What about when there is no match?  \n",
    "It returns a None."
   ]
  },
  {
   "cell_type": "code",
   "execution_count": 37,
   "metadata": {},
   "outputs": [
    {
     "name": "stdout",
     "output_type": "stream",
     "text": [
      "None\n"
     ]
    }
   ],
   "source": [
    "result = re.search(r\"zza\", \"lol\")\n",
    "print(result)"
   ]
  },
  {
   "cell_type": "markdown",
   "metadata": {},
   "source": [
    "**IGNORECASE**\n",
    "\n",
    "By default, regex matching is case sensitive. To make the matching case insensitive we can use the `re.IGNORECASE` flag."
   ]
  },
  {
   "cell_type": "code",
   "execution_count": 38,
   "metadata": {},
   "outputs": [
    {
     "name": "stdout",
     "output_type": "stream",
     "text": [
      "None\n"
     ]
    }
   ],
   "source": [
    "print(re.search(r\"ping\", \"Ping\"))"
   ]
  },
  {
   "cell_type": "code",
   "execution_count": 39,
   "metadata": {},
   "outputs": [
    {
     "name": "stdout",
     "output_type": "stream",
     "text": [
      "<re.Match object; span=(0, 4), match='Ping'>\n"
     ]
    }
   ],
   "source": [
    "print(re.search(r\"ping\", \"Ping\", re.IGNORECASE))"
   ]
  },
  {
   "cell_type": "markdown",
   "metadata": {},
   "source": [
    "**FINDALL**\n",
    "\n",
    "The `re.search` function, although very handy, will always return the first match in a string.  \n",
    "What if we want to match all instances of occurence of a given pattern in a string?  \n",
    "We use the `re.findall` method."
   ]
  },
  {
   "cell_type": "code",
   "execution_count": 40,
   "metadata": {},
   "outputs": [
    {
     "name": "stdout",
     "output_type": "stream",
     "text": [
      "<re.Match object; span=(0, 4), match='ding'>\n"
     ]
    }
   ],
   "source": [
    "print(re.search(r\"ding\", \"dingdingdingding\"))"
   ]
  },
  {
   "cell_type": "code",
   "execution_count": 41,
   "metadata": {},
   "outputs": [
    {
     "name": "stdout",
     "output_type": "stream",
     "text": [
      "['ding', 'ding', 'ding', 'ding']\n"
     ]
    }
   ],
   "source": [
    "print(re.findall(r\"ding\", \"dingdingdingding\"))"
   ]
  },
  {
   "cell_type": "markdown",
   "metadata": {},
   "source": [
    "### Special Characters\n",
    "\n",
    "Next we take a look at some of the special characters that help with pattern matching in regex."
   ]
  },
  {
   "cell_type": "markdown",
   "metadata": {},
   "source": [
    "We can use the caret (^) symbol to explicitly state that we want our match to start from the first character of the line.  \n",
    "Similarly, we use the dollar ($) symbol to state that we want our match to be at the last character of the line."
   ]
  },
  {
   "cell_type": "code",
   "execution_count": 42,
   "metadata": {},
   "outputs": [
    {
     "name": "stdout",
     "output_type": "stream",
     "text": [
      "<re.Match object; span=(1, 2), match='x'>\n"
     ]
    }
   ],
   "source": [
    "print(re.search(r\"x\", \"axon\"))"
   ]
  },
  {
   "cell_type": "code",
   "execution_count": 43,
   "metadata": {},
   "outputs": [
    {
     "name": "stdout",
     "output_type": "stream",
     "text": [
      "None\n"
     ]
    }
   ],
   "source": [
    "print(re.search(r\"^x\", \"axon\"))"
   ]
  },
  {
   "cell_type": "code",
   "execution_count": 44,
   "metadata": {},
   "outputs": [
    {
     "name": "stdout",
     "output_type": "stream",
     "text": [
      "<re.Match object; span=(2, 3), match='n'>\n"
     ]
    }
   ],
   "source": [
    "print(re.search(r\"n\", \"xenon\"))"
   ]
  },
  {
   "cell_type": "code",
   "execution_count": 45,
   "metadata": {},
   "outputs": [
    {
     "name": "stdout",
     "output_type": "stream",
     "text": [
      "<re.Match object; span=(4, 5), match='n'>\n"
     ]
    }
   ],
   "source": [
    "print(re.search(r\"n$\", \"xenon\"))"
   ]
  },
  {
   "cell_type": "markdown",
   "metadata": {},
   "source": [
    "**Wildcard**  \n",
    "\n",
    "A wildcard (represented by a dot) is a special character that will match any character (alphanumeric, spaces, digits, and symbols) present in the string."
   ]
  },
  {
   "cell_type": "code",
   "execution_count": 46,
   "metadata": {},
   "outputs": [
    {
     "name": "stdout",
     "output_type": "stream",
     "text": [
      "<re.Match object; span=(0, 4), match='peng'>\n"
     ]
    }
   ],
   "source": [
    "print(re.search(r\"p.ng\", \"penguin\"))"
   ]
  },
  {
   "cell_type": "code",
   "execution_count": 47,
   "metadata": {},
   "outputs": [
    {
     "name": "stdout",
     "output_type": "stream",
     "text": [
      "<re.Match object; span=(0, 4), match='ping'>\n"
     ]
    }
   ],
   "source": [
    "print(re.search(r\"p.ng\", \"ping\"))"
   ]
  },
  {
   "cell_type": "code",
   "execution_count": 48,
   "metadata": {},
   "outputs": [
    {
     "name": "stdout",
     "output_type": "stream",
     "text": [
      "<re.Match object; span=(1, 5), match='pong'>\n"
     ]
    }
   ],
   "source": [
    "print(re.search(r\"p.ng\", \"sponge\"))"
   ]
  },
  {
   "cell_type": "code",
   "execution_count": 49,
   "metadata": {},
   "outputs": [
    {
     "name": "stdout",
     "output_type": "stream",
     "text": [
      "<re.Match object; span=(0, 4), match='p ng'>\n"
     ]
    }
   ],
   "source": [
    "print(re.search(r\"p.ng\", \"p ng\"))"
   ]
  },
  {
   "cell_type": "markdown",
   "metadata": {},
   "source": [
    "**Character class**\n",
    "\n",
    "A character class is represented by square brackets ([ ]).  \n",
    "Anything inside the character class is considered for a given position of the pattern.  \n",
    "For example, in the first example, both p and P are considered to be matched at the first position of the pattern."
   ]
  },
  {
   "cell_type": "code",
   "execution_count": 50,
   "metadata": {},
   "outputs": [
    {
     "name": "stdout",
     "output_type": "stream",
     "text": [
      "<re.Match object; span=(0, 4), match='ping'>\n"
     ]
    }
   ],
   "source": [
    "print(re.search(r\"[Pp]ing\", \"ping\"))"
   ]
  },
  {
   "cell_type": "code",
   "execution_count": 51,
   "metadata": {},
   "outputs": [
    {
     "name": "stdout",
     "output_type": "stream",
     "text": [
      "<re.Match object; span=(0, 4), match='Ping'>\n"
     ]
    }
   ],
   "source": [
    "print(re.search(r\"[pP]ing\", \"Ping\"))"
   ]
  },
  {
   "cell_type": "markdown",
   "metadata": {},
   "source": [
    "A character class can also contain a group or sequence of characters.  \n",
    "For example, [a-z] represents all lower case characters."
   ]
  },
  {
   "cell_type": "code",
   "execution_count": 52,
   "metadata": {},
   "outputs": [
    {
     "name": "stdout",
     "output_type": "stream",
     "text": [
      "<re.Match object; span=(7, 11), match='hway'>\n"
     ]
    }
   ],
   "source": [
    "print(re.search(r\"[a-z]way\", \"The highway\"))"
   ]
  },
  {
   "cell_type": "code",
   "execution_count": 53,
   "metadata": {},
   "outputs": [
    {
     "name": "stdout",
     "output_type": "stream",
     "text": [
      "None\n"
     ]
    }
   ],
   "source": [
    "print(re.search(r\"[a-z]way\", \"The way\"))"
   ]
  },
  {
   "cell_type": "code",
   "execution_count": 54,
   "metadata": {},
   "outputs": [
    {
     "name": "stdout",
     "output_type": "stream",
     "text": [
      "<re.Match object; span=(0, 6), match='cloudy'>\n"
     ]
    }
   ],
   "source": [
    "print(re.search(r\"cloud[a-zA-Z0-9]\", \"cloudy\"))"
   ]
  },
  {
   "cell_type": "code",
   "execution_count": 55,
   "metadata": {},
   "outputs": [
    {
     "name": "stdout",
     "output_type": "stream",
     "text": [
      "<re.Match object; span=(0, 6), match='cloud9'>\n"
     ]
    }
   ],
   "source": [
    "print(re.search(r\"cloud[a-zA-Z0-9]\", \"cloud9\"))"
   ]
  },
  {
   "cell_type": "markdown",
   "metadata": {},
   "source": [
    "At times we would want our match to not contain some characters.  \n",
    "To exclude characters from matching, we can use the caret (^) symbol inside a character class.  \n",
    "For example, the pattern below excludes matches that have lower/upper case characters."
   ]
  },
  {
   "cell_type": "code",
   "execution_count": 56,
   "metadata": {},
   "outputs": [
    {
     "name": "stdout",
     "output_type": "stream",
     "text": [
      "<re.Match object; span=(4, 5), match=' '>\n"
     ]
    }
   ],
   "source": [
    "print(re.search(r\"[^a-zA-Z]\",\"This is a sentence.\"))"
   ]
  },
  {
   "cell_type": "code",
   "execution_count": 57,
   "metadata": {},
   "outputs": [
    {
     "name": "stdout",
     "output_type": "stream",
     "text": [
      "<re.Match object; span=(18, 19), match='.'>\n"
     ]
    }
   ],
   "source": [
    "print(re.search(r\"[^a-zA-Z ]\",\"This is a sentence.\"))"
   ]
  },
  {
   "cell_type": "markdown",
   "metadata": {},
   "source": [
    "**Or**\n",
    "\n",
    "Sometimes we might want to use an or condition to match either one of two things in our string.  \n",
    "An \"or\" is represented by the pipe (|) operator."
   ]
  },
  {
   "cell_type": "code",
   "execution_count": 58,
   "metadata": {},
   "outputs": [
    {
     "name": "stdout",
     "output_type": "stream",
     "text": [
      "<re.Match object; span=(5, 8), match='cat'>\n"
     ]
    }
   ],
   "source": [
    "print(re.search(r\"cat|dog\", \"nice cat\"))"
   ]
  },
  {
   "cell_type": "code",
   "execution_count": 59,
   "metadata": {},
   "outputs": [
    {
     "name": "stdout",
     "output_type": "stream",
     "text": [
      "<re.Match object; span=(5, 8), match='dog'>\n"
     ]
    }
   ],
   "source": [
    "print(re.search(r\"cat|dog\", \"good dog\"))"
   ]
  },
  {
   "cell_type": "markdown",
   "metadata": {},
   "source": [
    "We can combine *or* and *findall* to find all matches in a given sentence belonging to either of our individual patterns.  \n",
    "One can start thinking of the complex patterns that we can already match using the knowledge of regex that we have gained till now."
   ]
  },
  {
   "cell_type": "code",
   "execution_count": 60,
   "metadata": {},
   "outputs": [
    {
     "name": "stdout",
     "output_type": "stream",
     "text": [
      "<re.Match object; span=(9, 12), match='cat'>\n"
     ]
    }
   ],
   "source": [
    "print(re.search(r\"cat|dog\", \"I have a cat and a dog.\"))"
   ]
  },
  {
   "cell_type": "code",
   "execution_count": 61,
   "metadata": {},
   "outputs": [
    {
     "name": "stdout",
     "output_type": "stream",
     "text": [
      "['cat', 'dog']\n"
     ]
    }
   ],
   "source": [
    "print(re.findall(r\"cat|dog\", \"I have a cat and a dog.\"))"
   ]
  },
  {
   "cell_type": "markdown",
   "metadata": {},
   "source": [
    "**Quantifiers (a.k.a Repetition Qualifiers)** \n",
    "\n",
    "Till now we have only matched one instance of a character using the search function.  \n",
    "What if we want to match things that are repeated?  \n",
    "We can use repetition qualifiers for the same.\n",
    "\n",
    "There are three basic quantifiers that we use in regex:\n",
    "- The asterisk (\\*) symbol - matches the preceding character 0 or more times.\n",
    "- The plus (+) sign - matches the preceding character 1 or more times.\n",
    "- The question mark (?) - matches the preceding character 0 or 1 times."
   ]
  },
  {
   "cell_type": "markdown",
   "metadata": {},
   "source": [
    "*The asterisk*"
   ]
  },
  {
   "cell_type": "code",
   "execution_count": 62,
   "metadata": {},
   "outputs": [
    {
     "name": "stdout",
     "output_type": "stream",
     "text": [
      "<re.Match object; span=(0, 3), match='Pyt'>\n"
     ]
    }
   ],
   "source": [
    "print(re.search(r\"Py.\", \"Python\"))"
   ]
  },
  {
   "cell_type": "code",
   "execution_count": 63,
   "metadata": {},
   "outputs": [
    {
     "name": "stdout",
     "output_type": "stream",
     "text": [
      "<re.Match object; span=(0, 6), match='Python'>\n"
     ]
    }
   ],
   "source": [
    "print(re.search(r\"Py.*\", \"Python\"))"
   ]
  },
  {
   "cell_type": "code",
   "execution_count": 64,
   "metadata": {},
   "outputs": [
    {
     "name": "stdout",
     "output_type": "stream",
     "text": [
      "<re.Match object; span=(0, 2), match='Py'>\n"
     ]
    }
   ],
   "source": [
    "print(re.search(r\"Py.*\", \"Py\"))"
   ]
  },
  {
   "cell_type": "code",
   "execution_count": 65,
   "metadata": {},
   "outputs": [
    {
     "name": "stdout",
     "output_type": "stream",
     "text": [
      "<re.Match object; span=(0, 18), match='Python programming'>\n"
     ]
    }
   ],
   "source": [
    "print(re.search(r\"Py.*\", \"Python programming\"))"
   ]
  },
  {
   "cell_type": "code",
   "execution_count": 66,
   "metadata": {},
   "outputs": [
    {
     "name": "stdout",
     "output_type": "stream",
     "text": [
      "<re.Match object; span=(0, 6), match='Python'>\n"
     ]
    }
   ],
   "source": [
    "print(re.search(r\"Py[a-zA-Z]*\", \"Python programming\"))"
   ]
  },
  {
   "cell_type": "markdown",
   "metadata": {},
   "source": [
    "*The plus sign*"
   ]
  },
  {
   "cell_type": "code",
   "execution_count": 67,
   "metadata": {},
   "outputs": [
    {
     "name": "stdout",
     "output_type": "stream",
     "text": [
      "<re.Match object; span=(1, 3), match='ol'>\n"
     ]
    }
   ],
   "source": [
    "print(re.search(r\"o+l+\", \"goldfish\"))"
   ]
  },
  {
   "cell_type": "code",
   "execution_count": 68,
   "metadata": {},
   "outputs": [
    {
     "name": "stdout",
     "output_type": "stream",
     "text": [
      "<re.Match object; span=(1, 5), match='ooll'>\n"
     ]
    }
   ],
   "source": [
    "print(re.search(r\"o+l+\", \"woolly\"))"
   ]
  },
  {
   "cell_type": "code",
   "execution_count": 69,
   "metadata": {
    "scrolled": true
   },
   "outputs": [
    {
     "name": "stdout",
     "output_type": "stream",
     "text": [
      "<re.Match object; span=(1, 4), match='ool'>\n"
     ]
    }
   ],
   "source": [
    "print(re.search(r\"o+l+\", \"wool\"))"
   ]
  },
  {
   "cell_type": "code",
   "execution_count": 70,
   "metadata": {},
   "outputs": [
    {
     "name": "stdout",
     "output_type": "stream",
     "text": [
      "None\n"
     ]
    }
   ],
   "source": [
    "print(re.search(r\"o+l+\", \"boil\"))"
   ]
  },
  {
   "cell_type": "markdown",
   "metadata": {},
   "source": [
    "*The question mark*"
   ]
  },
  {
   "cell_type": "code",
   "execution_count": 71,
   "metadata": {},
   "outputs": [
    {
     "name": "stdout",
     "output_type": "stream",
     "text": [
      "<re.Match object; span=(3, 7), match='each'>\n"
     ]
    }
   ],
   "source": [
    "print(re.search(r\"p?each\", \"to each his own\"))"
   ]
  },
  {
   "cell_type": "code",
   "execution_count": 72,
   "metadata": {},
   "outputs": [
    {
     "name": "stdout",
     "output_type": "stream",
     "text": [
      "<re.Match object; span=(0, 5), match='peach'>\n"
     ]
    }
   ],
   "source": [
    "print(re.search(r\"p?each\", \"peachy\"))"
   ]
  },
  {
   "cell_type": "markdown",
   "metadata": {},
   "source": [
    "**Escaping Characters**  \n",
    "\n",
    "What if we want to match a given special character (like . or +)?  \n",
    "We can use a backslash (\\) to escape special characters and treat them as literal string characters.  \n",
    "**Note:** most special characters inside a character class are treated as literal string characters."
   ]
  },
  {
   "cell_type": "code",
   "execution_count": 73,
   "metadata": {},
   "outputs": [
    {
     "name": "stdout",
     "output_type": "stream",
     "text": [
      "<re.Match object; span=(9, 13), match='ncom'>\n"
     ]
    }
   ],
   "source": [
    "print(re.search(r\".com\", \"www.pythoncomputer.com\"))"
   ]
  },
  {
   "cell_type": "code",
   "execution_count": 74,
   "metadata": {},
   "outputs": [
    {
     "name": "stdout",
     "output_type": "stream",
     "text": [
      "<re.Match object; span=(18, 22), match='.com'>\n"
     ]
    }
   ],
   "source": [
    "print(re.search(r\"\\.com\", \"www.pythoncomputer.com\"))"
   ]
  },
  {
   "cell_type": "markdown",
   "metadata": {},
   "source": [
    "**Other uses of the backslash**"
   ]
  },
  {
   "cell_type": "markdown",
   "metadata": {},
   "source": [
    "Some special predefined character classes are represented by a backslash following a character.  \n",
    "* \\\\w - alphanumeric character = [a-zA-Z0-9] \n",
    "* \\\\s - spaces = [ \\t\\n]\n",
    "* \\\\d - digits = [0-9]\n",
    "* \\\\b - word boundaries"
   ]
  },
  {
   "cell_type": "code",
   "execution_count": 75,
   "metadata": {},
   "outputs": [
    {
     "name": "stdout",
     "output_type": "stream",
     "text": [
      "<re.Match object; span=(0, 4), match='This'>\n"
     ]
    }
   ],
   "source": [
    "print(re.search(r\"\\w*\", \"This is an example.\"))"
   ]
  },
  {
   "cell_type": "code",
   "execution_count": 76,
   "metadata": {},
   "outputs": [
    {
     "name": "stdout",
     "output_type": "stream",
     "text": [
      "<re.Match object; span=(0, 18), match='This_is_an_example'>\n"
     ]
    }
   ],
   "source": [
    "print(re.search(r\"\\w*\", \"This_is_an_example.\"))"
   ]
  },
  {
   "cell_type": "code",
   "execution_count": 77,
   "metadata": {},
   "outputs": [
    {
     "name": "stdout",
     "output_type": "stream",
     "text": [
      "<re.Match object; span=(10, 12), match='12'>\n"
     ]
    }
   ],
   "source": [
    "print(re.search(r\"\\d+\", \"There are 12 months\"))"
   ]
  },
  {
   "cell_type": "code",
   "execution_count": 78,
   "metadata": {},
   "outputs": [
    {
     "name": "stdout",
     "output_type": "stream",
     "text": [
      "[' ', ' ', '\\n', ' ']\n"
     ]
    }
   ],
   "source": [
    "print(re.findall(r\"\\s+\", \"Space is dark.\\nNewline darker.\"))"
   ]
  },
  {
   "cell_type": "markdown",
   "metadata": {},
   "source": [
    "We can use word boundaries, to specify to regex that we want to match complete words, as shown here:"
   ]
  },
  {
   "cell_type": "code",
   "execution_count": 79,
   "metadata": {},
   "outputs": [
    {
     "name": "stdout",
     "output_type": "stream",
     "text": [
      "<re.Match object; span=(1, 5), match='atch'>\n",
      "<re.Match object; span=(25, 32), match='awesome'>\n"
     ]
    }
   ],
   "source": [
    "print(re.search(r\"a\\w+\", \"Match a word with a like awesome.\"))\n",
    "print(re.search(r\"\\ba\\w+\", \"Match a word with a like awesome.\"))"
   ]
  },
  {
   "cell_type": "markdown",
   "metadata": {},
   "source": [
    "### A Basic Example\n",
    "\n",
    "Pattern matching Python variable names.  \n",
    "Variables in python follow these rules:\n",
    "* contain letters, numbers or underscores\n",
    "* begin with a letter or an underscore\n",
    "\n",
    "The pattern that matches the rules is shown below:"
   ]
  },
  {
   "cell_type": "code",
   "execution_count": 80,
   "metadata": {},
   "outputs": [],
   "source": [
    "pattern = r\"^[a-zA-Z_]\\w*$\""
   ]
  },
  {
   "cell_type": "code",
   "execution_count": 81,
   "metadata": {},
   "outputs": [
    {
     "name": "stdout",
     "output_type": "stream",
     "text": [
      "<re.Match object; span=(0, 25), match='_this_is_a_valid_variable'>\n"
     ]
    }
   ],
   "source": [
    "print(re.search(pattern, \"_this_is_a_valid_variable\"))"
   ]
  },
  {
   "cell_type": "code",
   "execution_count": 82,
   "metadata": {},
   "outputs": [
    {
     "name": "stdout",
     "output_type": "stream",
     "text": [
      "None\n"
     ]
    }
   ],
   "source": [
    "print(re.search(pattern, \"_this_is_an invalid_variable\"))"
   ]
  },
  {
   "cell_type": "code",
   "execution_count": 83,
   "metadata": {},
   "outputs": [
    {
     "name": "stdout",
     "output_type": "stream",
     "text": [
      "<re.Match object; span=(0, 25), match='it_can_contain_numbers123'>\n"
     ]
    }
   ],
   "source": [
    "print(re.search(pattern, \"it_can_contain_numbers123\"))"
   ]
  },
  {
   "cell_type": "code",
   "execution_count": 84,
   "metadata": {},
   "outputs": [
    {
     "name": "stdout",
     "output_type": "stream",
     "text": [
      "None\n"
     ]
    }
   ],
   "source": [
    "print(re.search(pattern, \"123cant_start_with_numbers\"))"
   ]
  },
  {
   "cell_type": "markdown",
   "metadata": {},
   "source": [
    "## Advanced RegExp"
   ]
  },
  {
   "cell_type": "markdown",
   "metadata": {},
   "source": [
    "**More Repetition Qualifiers**  \n",
    "\n",
    "There is another type of repetition qualifier that helps us gain finer control of how many repeats we want in our matches.  \n",
    "The curly brackets ({}) can be used to define a range of character repetitions that we want our pattern to match in a string.  \n",
    "{m} - matches exactly m repeats of the preceding character.  \n",
    "{m, n} - matches if the preceding character is repeated at least m times and at most n times"
   ]
  },
  {
   "cell_type": "code",
   "execution_count": 85,
   "metadata": {},
   "outputs": [
    {
     "name": "stdout",
     "output_type": "stream",
     "text": [
      "<re.Match object; span=(2, 7), match='scary'>\n"
     ]
    }
   ],
   "source": [
    "print(re.search(r\"\\w{5}\", \"a scary ghost appears.\"))"
   ]
  },
  {
   "cell_type": "code",
   "execution_count": 86,
   "metadata": {},
   "outputs": [
    {
     "name": "stdout",
     "output_type": "stream",
     "text": [
      "['scary', 'ghost', 'appea']\n"
     ]
    }
   ],
   "source": [
    "print(re.findall(r\"\\w{5}\", \"a scary ghost appears.\"))"
   ]
  },
  {
   "cell_type": "markdown",
   "metadata": {},
   "source": [
    "We can use a word boundary to explicitly say that we want to match full words."
   ]
  },
  {
   "cell_type": "code",
   "execution_count": 87,
   "metadata": {},
   "outputs": [
    {
     "name": "stdout",
     "output_type": "stream",
     "text": [
      "['scary', 'ghost']\n"
     ]
    }
   ],
   "source": [
    "print(re.findall(r\"\\b\\w{5}\\b\", \"a scary ghost appears.\"))"
   ]
  },
  {
   "cell_type": "code",
   "execution_count": 88,
   "metadata": {},
   "outputs": [
    {
     "name": "stdout",
     "output_type": "stream",
     "text": [
      "['scary', 'ghost', 'appears']\n"
     ]
    }
   ],
   "source": [
    "print(re.findall(r\"\\b\\w{5,10}\\b\", \"a scary ghost appears.\"))"
   ]
  },
  {
   "cell_type": "markdown",
   "metadata": {},
   "source": [
    "A number followed by a comma gives us a lower bound on the number of repeats"
   ]
  },
  {
   "cell_type": "code",
   "execution_count": 89,
   "metadata": {},
   "outputs": [
    {
     "name": "stdout",
     "output_type": "stream",
     "text": [
      "['scary', 'ghost', 'appears']\n"
     ]
    }
   ],
   "source": [
    "print(re.findall(r\"\\b\\w{5,}\\b\", \"a scary ghost appears.\"))"
   ]
  },
  {
   "cell_type": "markdown",
   "metadata": {},
   "source": [
    "A comma followed by a number gives us an upper bound on the number of repeats."
   ]
  },
  {
   "cell_type": "code",
   "execution_count": 90,
   "metadata": {},
   "outputs": [
    {
     "name": "stdout",
     "output_type": "stream",
     "text": [
      "['scary']\n"
     ]
    }
   ],
   "source": [
    "print(re.findall(r\"\\bs\\w{,5}\\b\", \"a scary ghost appears.\"))"
   ]
  },
  {
   "cell_type": "markdown",
   "metadata": {},
   "source": [
    "**Capturing Groups**\n",
    "\n",
    "With the help of regex, we can capture groups of characters or single characters that we match using the parentheses (()).  \n",
    "The match object stores the matches in a list format.  \n",
    "The first item is the whole matched string  \n",
    "The second item contains the first matched group  \n",
    "The third item contains the second matched group  \n",
    "and so on.\n",
    "\n",
    "Here is an example to illustrate this:"
   ]
  },
  {
   "cell_type": "code",
   "execution_count": 91,
   "metadata": {},
   "outputs": [
    {
     "name": "stdout",
     "output_type": "stream",
     "text": [
      "<re.Match object; span=(0, 13), match='Elvis Presley'>\n",
      "('Elvis', 'Presley')\n",
      "Elvis Presley\n",
      "Elvis\n",
      "Presley\n"
     ]
    }
   ],
   "source": [
    "result = re.search(r\"^(\\w+) (\\w+)$\", \"Elvis Presley\")\n",
    "print(result)\n",
    "print(result.groups())\n",
    "print(result[0])\n",
    "print(result[1])\n",
    "print(result[2])"
   ]
  },
  {
   "cell_type": "markdown",
   "metadata": {},
   "source": [
    "Now that we have a pattern that we can use to match names. Lets stop printing and write a function that takes in a name of the form *FIRSTNAME LASTNAME* and rearranges it to the format *LASTNAME,FIRSTNAME*"
   ]
  },
  {
   "cell_type": "code",
   "execution_count": 92,
   "metadata": {},
   "outputs": [],
   "source": [
    "def rearrange_name(name):\n",
    "    result = re.search(r\"^(\\w+) (\\w+)$\", name)\n",
    "    if result is None:\n",
    "        return name\n",
    "    return \"{},{}\".format(result[2], result[1])"
   ]
  },
  {
   "cell_type": "code",
   "execution_count": 93,
   "metadata": {},
   "outputs": [
    {
     "name": "stdout",
     "output_type": "stream",
     "text": [
      "Presley,Elvis\n",
      "Norton,Edward\n"
     ]
    }
   ],
   "source": [
    "print(rearrange_name(\"Elvis Presley\"))\n",
    "print(rearrange_name(\"Edward Norton\"))"
   ]
  },
  {
   "cell_type": "markdown",
   "metadata": {},
   "source": [
    "Woohoo! We wrote our first useful function using regex. But wait, the same task can be done pretty easily with regex and without writing a function. The next part shows how."
   ]
  },
  {
   "cell_type": "markdown",
   "metadata": {},
   "source": [
    "**Splitting and Replacing**  \n",
    "\n",
    "Apart from searching for and finding patterns, we can use the regex library to do so much more in python.  \n",
    "Two important uses of regex in python are splitting strings and capturing strings.  \n",
    "\n",
    "We can use the `re.split()` method to split strings using some regex pattern or characters.  \n",
    "We can use the `re.sub()` method to replace a given matched pattern with a specified string."
   ]
  },
  {
   "cell_type": "code",
   "execution_count": 94,
   "metadata": {},
   "outputs": [
    {
     "name": "stdout",
     "output_type": "stream",
     "text": [
      "['One sentence', ' Another one', ' The last one', '']\n"
     ]
    }
   ],
   "source": [
    "print(re.split(r\"[.?!]\",\"One sentence. Another one? The last one!\"))"
   ]
  },
  {
   "cell_type": "code",
   "execution_count": 95,
   "metadata": {},
   "outputs": [
    {
     "name": "stdout",
     "output_type": "stream",
     "text": [
      "['One sentence', '.', ' Another one', '?', ' The last one', '!', '']\n"
     ]
    }
   ],
   "source": [
    "print(re.split(r\"([.?!])\",\"One sentence. Another one? The last one!\"))"
   ]
  },
  {
   "cell_type": "code",
   "execution_count": 96,
   "metadata": {},
   "outputs": [
    {
     "name": "stdout",
     "output_type": "stream",
     "text": [
      "Received email from [REDACTED]\n"
     ]
    }
   ],
   "source": [
    "print(re.sub(r\"[\\w.%+-]+@[\\w.-]+\", \"[REDACTED]\", \"Received email from lol@google.com\"))"
   ]
  },
  {
   "cell_type": "markdown",
   "metadata": {},
   "source": [
    "We can reference captured groups by using the backslash followed by the index at which the match is stored in the list of matches.  \n",
    "Equipped with this new piece of information and the `re.sub` function, we can now write the rearrange_name function in a much shorter way:"
   ]
  },
  {
   "cell_type": "code",
   "execution_count": 97,
   "metadata": {},
   "outputs": [
    {
     "name": "stdout",
     "output_type": "stream",
     "text": [
      "Elvis,Presley\n"
     ]
    }
   ],
   "source": [
    "print(re.sub(r\"(\\w+) (\\w+)\", r\"\\1,\\2\", \"Elvis Presley\"))"
   ]
  },
  {
   "cell_type": "markdown",
   "metadata": {},
   "source": [
    "**Backreferencing**\n",
    "\n",
    "We learned that we can reference captured groups by using a backslash and the index of the group.  \n",
    "We can also use the backslash and index to reference a captured group from within the pattern itself. This is known as backreferencing.  \n",
    "There can be lots of uses of backreferencing and it is quite an advanced regex concept. But we will look at a small example of where it might help."
   ]
  },
  {
   "cell_type": "markdown",
   "metadata": {},
   "source": [
    "We want to match two repeats of the same word, but we don't know what exactly the word is.  \n",
    "How can we approach this problem using regex?"
   ]
  },
  {
   "cell_type": "code",
   "execution_count": 98,
   "metadata": {},
   "outputs": [
    {
     "name": "stdout",
     "output_type": "stream",
     "text": [
      "<re.Match object; span=(0, 9), match='okay okay'>\n"
     ]
    }
   ],
   "source": [
    "print(re.search(r\"(\\w+) (\\w+)\", \"okay okay\"))"
   ]
  },
  {
   "cell_type": "code",
   "execution_count": 99,
   "metadata": {},
   "outputs": [
    {
     "name": "stdout",
     "output_type": "stream",
     "text": [
      "<re.Match object; span=(0, 15), match='alright alright'>\n"
     ]
    }
   ],
   "source": [
    "print(re.search(r\"(\\w+) (\\w+)\", \"alright alright\"))"
   ]
  },
  {
   "cell_type": "markdown",
   "metadata": {},
   "source": [
    "The above pattern seems to match what we want right?  \n",
    "Let's look at a different string."
   ]
  },
  {
   "cell_type": "code",
   "execution_count": 100,
   "metadata": {},
   "outputs": [
    {
     "name": "stdout",
     "output_type": "stream",
     "text": [
      "<re.Match object; span=(0, 12), match='okay alright'>\n"
     ]
    }
   ],
   "source": [
    "print(re.search(r\"(\\w+) (\\w+)\", \"okay alright\"))"
   ]
  },
  {
   "cell_type": "markdown",
   "metadata": {},
   "source": [
    "This is an issue, although we will match all the words that we wanted to match, we will also match words other than the correct matches.\n",
    "\n",
    "Backreferencing to the rescue!  \n",
    "By *backreferencing* the first captured group, we can ensure that the second word matches the first one that found. Thus, we can match the correct words that we want and steer clear of the incorrect matches."
   ]
  },
  {
   "cell_type": "code",
   "execution_count": 101,
   "metadata": {},
   "outputs": [
    {
     "name": "stdout",
     "output_type": "stream",
     "text": [
      "<re.Match object; span=(0, 9), match='okay okay'>\n"
     ]
    }
   ],
   "source": [
    "print(re.search(r\"(\\w+) \\1\", \"okay okay\"))"
   ]
  },
  {
   "cell_type": "code",
   "execution_count": 102,
   "metadata": {},
   "outputs": [
    {
     "name": "stdout",
     "output_type": "stream",
     "text": [
      "<re.Match object; span=(0, 15), match='alright alright'>\n"
     ]
    }
   ],
   "source": [
    "print(re.search(r\"(\\w+) \\1\", \"alright alright\"))"
   ]
  },
  {
   "cell_type": "code",
   "execution_count": 103,
   "metadata": {
    "scrolled": true
   },
   "outputs": [
    {
     "name": "stdout",
     "output_type": "stream",
     "text": [
      "None\n"
     ]
    }
   ],
   "source": [
    "print(re.search(r\"(\\w+) \\1\", \"okay alright\"))"
   ]
  },
  {
   "cell_type": "markdown",
   "metadata": {},
   "source": [
    "Phew! That was a lot. Have a second look, try experimenting and trying out different ideas and matches.  \n",
    "Feel free to use this notebook as a cheat sheet for regex in Python."
   ]
  }
 ],
 "metadata": {
  "kernelspec": {
   "display_name": "Python 3",
   "language": "python",
   "name": "python3"
  },
  "language_info": {
   "codemirror_mode": {
    "name": "ipython",
    "version": 3
   },
   "file_extension": ".py",
   "mimetype": "text/x-python",
   "name": "python",
   "nbconvert_exporter": "python",
   "pygments_lexer": "ipython3",
   "version": "3.8.3"
  }
 },
 "nbformat": 4,
 "nbformat_minor": 4
}
