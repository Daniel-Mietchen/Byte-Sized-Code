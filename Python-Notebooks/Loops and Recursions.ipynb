{
 "cells": [
  {
   "cell_type": "markdown",
   "metadata": {},
   "source": [
    "# Loops and Recursions\n",
    "\n",
    "**By Arpit Omprakash, Byte Sized Code**"
   ]
  },
  {
   "cell_type": "markdown",
   "metadata": {},
   "source": [
    "## Loops"
   ]
  },
  {
   "cell_type": "markdown",
   "metadata": {},
   "source": [
    "### While Loops\n",
    "\n",
    "While loops are blocks of code that run till a certain condition evaluates to be true.  \n",
    "They are more or less defined in the same way as `if` statements.  \n",
    "\n",
    "```\n",
    "while condition_evaluates_to_true:\n",
    "    do_something\n",
    "```"
   ]
  },
  {
   "cell_type": "code",
   "execution_count": 1,
   "metadata": {},
   "outputs": [
    {
     "name": "stdout",
     "output_type": "stream",
     "text": [
      "Not there yet, x= 0\n",
      "Not there yet, x= 1\n",
      "Not there yet, x= 2\n",
      "Not there yet, x= 3\n",
      "Not there yet, x= 4\n"
     ]
    }
   ],
   "source": [
    "x = 0\n",
    "while x < 5:\n",
    "    print(\"Not there yet, x= \" + str(x))\n",
    "    x = x + 1"
   ]
  },
  {
   "cell_type": "code",
   "execution_count": 2,
   "metadata": {},
   "outputs": [
    {
     "name": "stdout",
     "output_type": "stream",
     "text": [
      "Attempt 1\n",
      "Attempt 2\n",
      "Attempt 3\n",
      "Attempt 4\n",
      "Attempt 5\n",
      "Done\n"
     ]
    }
   ],
   "source": [
    "def attempts(n):\n",
    "    x = 1\n",
    "    while x <= n:\n",
    "        print(\"Attempt \" + str(x))\n",
    "        x += 1\n",
    "    print(\"Done\")\n",
    "\n",
    "attempts(5)"
   ]
  },
  {
   "cell_type": "markdown",
   "metadata": {},
   "source": [
    "While loops are traditionally used in cases where a certain condition is required to be met before proceeding. For example:"
   ]
  },
  {
   "cell_type": "code",
   "execution_count": 3,
   "metadata": {},
   "outputs": [
    {
     "name": "stdout",
     "output_type": "stream",
     "text": [
      "Enter your name: omprakash\n",
      "Enter your name: elvis\n",
      "Enter your name: matt\n",
      "Enter your name: arpit\n",
      "Name = arpit\n"
     ]
    }
   ],
   "source": [
    "name = \"\"\n",
    "while name != \"arpit\":\n",
    "    name = input(\"Enter your name: \")\n",
    "print(\"Name = \" + name )"
   ]
  },
  {
   "cell_type": "markdown",
   "metadata": {},
   "source": [
    "**Common Errors while writing While Loops**"
   ]
  },
  {
   "cell_type": "markdown",
   "metadata": {},
   "source": [
    "- Forgetting to initialize the variable"
   ]
  },
  {
   "cell_type": "code",
   "execution_count": 4,
   "metadata": {},
   "outputs": [
    {
     "ename": "NameError",
     "evalue": "name 'my_var' is not defined",
     "output_type": "error",
     "traceback": [
      "\u001b[1;31m---------------------------------------------------------------------------\u001b[0m",
      "\u001b[1;31mNameError\u001b[0m                                 Traceback (most recent call last)",
      "\u001b[1;32m<ipython-input-4-d1f5bd001c5c>\u001b[0m in \u001b[0;36m<module>\u001b[1;34m\u001b[0m\n\u001b[1;32m----> 1\u001b[1;33m \u001b[1;32mwhile\u001b[0m \u001b[0mmy_var\u001b[0m \u001b[1;33m<\u001b[0m \u001b[1;36m5\u001b[0m\u001b[1;33m:\u001b[0m\u001b[1;33m\u001b[0m\u001b[1;33m\u001b[0m\u001b[0m\n\u001b[0m\u001b[0;32m      2\u001b[0m     \u001b[0mprint\u001b[0m\u001b[1;33m(\u001b[0m\u001b[0mmy_var\u001b[0m\u001b[1;33m)\u001b[0m\u001b[1;33m\u001b[0m\u001b[1;33m\u001b[0m\u001b[0m\n\u001b[0;32m      3\u001b[0m     \u001b[0mmy_var\u001b[0m \u001b[1;33m+=\u001b[0m \u001b[1;36m1\u001b[0m\u001b[1;33m\u001b[0m\u001b[1;33m\u001b[0m\u001b[0m\n",
      "\u001b[1;31mNameError\u001b[0m: name 'my_var' is not defined"
     ]
    }
   ],
   "source": [
    "while my_var < 5:\n",
    "    print(my_var)\n",
    "    my_var += 1"
   ]
  },
  {
   "cell_type": "code",
   "execution_count": 5,
   "metadata": {},
   "outputs": [
    {
     "name": "stdout",
     "output_type": "stream",
     "text": [
      "45 1\n"
     ]
    }
   ],
   "source": [
    "x = 1\n",
    "_sum = 0\n",
    "while x < 10:\n",
    "    _sum += x\n",
    "    x += 1\n",
    "\n",
    "product = 1\n",
    "while x < 10:\n",
    "    product *= x\n",
    "    x += 1\n",
    "\n",
    "print(_sum, product)"
   ]
  },
  {
   "cell_type": "markdown",
   "metadata": {},
   "source": [
    "In the second case, we forgot to initialize the value of x before the second while loop. Thus, the second while loop is never executed. The second error may be difficult to catch as python doesn't give us an error."
   ]
  },
  {
   "cell_type": "markdown",
   "metadata": {},
   "source": [
    "- Infinite Loops\n",
    "\n",
    "Infinite loops are the most dreaded problem that one can encounter with a loop.  \n",
    "They generally happen when you forget to track your variable and the condition in the `while` loop never evaluates to be false. Thus, the loop continues forever."
   ]
  },
  {
   "cell_type": "code",
   "execution_count": null,
   "metadata": {},
   "outputs": [],
   "source": [
    "x = 0\n",
    "while x < 10:\n",
    "    print(\"ok\")\n",
    "    x -= 1"
   ]
  },
  {
   "cell_type": "code",
   "execution_count": null,
   "metadata": {},
   "outputs": [],
   "source": [
    "x = 1\n",
    "while x < 5:\n",
    "    print(x)"
   ]
  },
  {
   "cell_type": "markdown",
   "metadata": {},
   "source": [
    "However sometimes infinite loops are desirable.  \n",
    "For example, if you have ever used the `ping` command in Linux or `ping -t` command in Windows, you might have noticed that the tool runs till it is stopped manually by the user.\n",
    "\n",
    "Even in those cases we need to break the loop at some time:\n",
    "\n",
    "```\n",
    "while True:\n",
    "    do_something_cool()\n",
    "    if user_requested_to_stop():\n",
    "        break\n",
    "```\n",
    "A **break** statement is used to exit an infinite loop when a certain condition is met.  \n",
    "The break statement can also be used to exit a loop early if the code has achieved its objective."
   ]
  },
  {
   "cell_type": "code",
   "execution_count": 8,
   "metadata": {},
   "outputs": [
    {
     "name": "stdout",
     "output_type": "stream",
     "text": [
      "0\n",
      "1\n",
      "2\n"
     ]
    }
   ],
   "source": [
    "x = 0\n",
    "while x < 5:\n",
    "    if x == 3:\n",
    "        break\n",
    "    print(x)\n",
    "    x += 1"
   ]
  },
  {
   "cell_type": "markdown",
   "metadata": {},
   "source": [
    "### For Loops\n",
    "\n",
    "For loops are used to iterate over a given sequence of values.  \n",
    "The syntax is as follows:\n",
    "```\n",
    "for item in iterable:\n",
    "    do_something_with_item\n",
    "```"
   ]
  },
  {
   "cell_type": "code",
   "execution_count": 9,
   "metadata": {},
   "outputs": [
    {
     "name": "stdout",
     "output_type": "stream",
     "text": [
      "0\n",
      "1\n",
      "2\n",
      "3\n",
      "4\n"
     ]
    }
   ],
   "source": [
    "for x in range(5):\n",
    "    print(x)"
   ]
  },
  {
   "cell_type": "markdown",
   "metadata": {},
   "source": [
    "The range function returns an iterable sequence of numbers.  \n",
    "- `range(n)` generates values from `0` to `n-1`\n",
    "- `range(m, n)` generates values from `m` to `n-1`\n",
    "- `range(m, n, p)` generates values from `m` to `n-1` in steps of `p`"
   ]
  },
  {
   "cell_type": "code",
   "execution_count": 10,
   "metadata": {},
   "outputs": [
    {
     "name": "stdout",
     "output_type": "stream",
     "text": [
      "5\n",
      "6\n",
      "7\n",
      "8\n",
      "9\n"
     ]
    }
   ],
   "source": [
    "for i in range(5, 10):\n",
    "    print(i)"
   ]
  },
  {
   "cell_type": "code",
   "execution_count": 11,
   "metadata": {},
   "outputs": [
    {
     "name": "stdout",
     "output_type": "stream",
     "text": [
      "5\n",
      "7\n",
      "9\n"
     ]
    }
   ],
   "source": [
    "for i in range(5, 10, 2):\n",
    "    print(i)"
   ]
  },
  {
   "cell_type": "markdown",
   "metadata": {},
   "source": [
    "You might be wondering why do we have a separate kind of loop, we can write the previous loops even as `while` loops.  \n",
    "The answer lies in the power of `for` loops to work with any iterable item, including lists, dictionaries, and strings."
   ]
  },
  {
   "cell_type": "code",
   "execution_count": 12,
   "metadata": {},
   "outputs": [
    {
     "name": "stdout",
     "output_type": "stream",
     "text": [
      "How you doing Chandler?\n",
      "How you doing Monica?\n",
      "How you doing Ross?\n",
      "How you doing Rachel?\n",
      "How you doing Phoebe?\n",
      "How you doing Joey?\n"
     ]
    }
   ],
   "source": [
    "friends = [\"Chandler\", \"Monica\", \"Ross\", \"Rachel\", \"Phoebe\", \"Joey\"]\n",
    "for friend in friends:\n",
    "    print(\"How you doing \" + friend + \"?\")"
   ]
  },
  {
   "cell_type": "code",
   "execution_count": 13,
   "metadata": {},
   "outputs": [
    {
     "name": "stdout",
     "output_type": "stream",
     "text": [
      "0 -17.77777777777778\n",
      "10 -12.222222222222221\n",
      "20 -6.666666666666667\n",
      "30 -1.1111111111111112\n",
      "40 4.444444444444445\n",
      "50 10.0\n",
      "60 15.555555555555555\n",
      "70 21.11111111111111\n",
      "80 26.666666666666668\n",
      "90 32.22222222222222\n",
      "100 37.77777777777778\n"
     ]
    }
   ],
   "source": [
    "def to_celsius(x):\n",
    "    return (x - 32) * 5 / 9\n",
    "\n",
    "for x in range(0, 101, 10):\n",
    "    print(x, to_celsius(x))"
   ]
  },
  {
   "cell_type": "markdown",
   "metadata": {},
   "source": [
    "**Nested For Loops**\n",
    "\n",
    "We can use nested for loops to iterate over two iterable items simultaneously and perform some function with both of them.  \n",
    "Here's an example:"
   ]
  },
  {
   "cell_type": "code",
   "execution_count": 14,
   "metadata": {},
   "outputs": [
    {
     "name": "stdout",
     "output_type": "stream",
     "text": [
      "big apple\n",
      "big cherry\n",
      "big orange\n",
      "tasty apple\n",
      "tasty cherry\n",
      "tasty orange\n",
      "fresh apple\n",
      "fresh cherry\n",
      "fresh orange\n"
     ]
    }
   ],
   "source": [
    "adj = [\"big\", \"tasty\", \"fresh\"]\n",
    "fruits = [\"apple\", \"cherry\", \"orange\"]\n",
    "\n",
    "for adjective in adj:\n",
    "    for fruit in fruits:\n",
    "        print(adjective + \" \" + fruit)"
   ]
  },
  {
   "cell_type": "markdown",
   "metadata": {},
   "source": [
    "**Common Errors when writing For Loops**"
   ]
  },
  {
   "cell_type": "markdown",
   "metadata": {},
   "source": [
    "- Trying to iterate over something that is not iterable  \n",
    "\n",
    "This is a frequent error for beginners as they often confuse data types."
   ]
  },
  {
   "cell_type": "code",
   "execution_count": 15,
   "metadata": {},
   "outputs": [
    {
     "ename": "TypeError",
     "evalue": "'int' object is not iterable",
     "output_type": "error",
     "traceback": [
      "\u001b[1;31m---------------------------------------------------------------------------\u001b[0m",
      "\u001b[1;31mTypeError\u001b[0m                                 Traceback (most recent call last)",
      "\u001b[1;32m<ipython-input-15-b556cd019809>\u001b[0m in \u001b[0;36m<module>\u001b[1;34m\u001b[0m\n\u001b[1;32m----> 1\u001b[1;33m \u001b[1;32mfor\u001b[0m \u001b[0mx\u001b[0m \u001b[1;32min\u001b[0m \u001b[1;36m25\u001b[0m\u001b[1;33m:\u001b[0m\u001b[1;33m\u001b[0m\u001b[1;33m\u001b[0m\u001b[0m\n\u001b[0m\u001b[0;32m      2\u001b[0m     \u001b[0mprint\u001b[0m\u001b[1;33m(\u001b[0m\u001b[0mx\u001b[0m\u001b[1;33m)\u001b[0m\u001b[1;33m\u001b[0m\u001b[1;33m\u001b[0m\u001b[0m\n",
      "\u001b[1;31mTypeError\u001b[0m: 'int' object is not iterable"
     ]
    }
   ],
   "source": [
    "for x in 25:\n",
    "    print(x)"
   ]
  },
  {
   "cell_type": "markdown",
   "metadata": {},
   "source": [
    "- Iterating over the wrong data type\n",
    "\n",
    "Lets again greet our friends"
   ]
  },
  {
   "cell_type": "code",
   "execution_count": 16,
   "metadata": {},
   "outputs": [],
   "source": [
    "def greet_friends(friends):\n",
    "    for friend in friends:\n",
    "        print(\"Hi \" + friend)"
   ]
  },
  {
   "cell_type": "code",
   "execution_count": 17,
   "metadata": {},
   "outputs": [
    {
     "name": "stdout",
     "output_type": "stream",
     "text": [
      "Hi Chandler\n",
      "Hi Monica\n",
      "Hi Ross\n",
      "Hi Rachel\n",
      "Hi Phoebe\n",
      "Hi Joey\n"
     ]
    }
   ],
   "source": [
    "greet_friends(friends)"
   ]
  },
  {
   "cell_type": "markdown",
   "metadata": {},
   "source": [
    "What if we just want to say hi to chandler?  \n",
    "Lets try putting his name in the function."
   ]
  },
  {
   "cell_type": "code",
   "execution_count": 18,
   "metadata": {},
   "outputs": [
    {
     "name": "stdout",
     "output_type": "stream",
     "text": [
      "Hi c\n",
      "Hi h\n",
      "Hi a\n",
      "Hi n\n",
      "Hi d\n",
      "Hi l\n",
      "Hi e\n",
      "Hi r\n"
     ]
    }
   ],
   "source": [
    "greet_friends(\"chandler\")"
   ]
  },
  {
   "cell_type": "markdown",
   "metadata": {},
   "source": [
    "What's the problem here?  \n",
    "The for loop here iterates over the string that we supplied, thus, we have to enclose the single string in a list before presenting it to the function."
   ]
  },
  {
   "cell_type": "code",
   "execution_count": 19,
   "metadata": {},
   "outputs": [
    {
     "name": "stdout",
     "output_type": "stream",
     "text": [
      "Hi chandler\n"
     ]
    }
   ],
   "source": [
    "greet_friends([\"chandler\"])"
   ]
  },
  {
   "cell_type": "markdown",
   "metadata": {},
   "source": [
    "## Recursion\n",
    "\n",
    "The repeated application of the same procedure to a smaller problem.  \n",
    "It lets us tackle complex problems by reducing the problem to a simpler one.  \n",
    "In programming, recursion is a way of doing a repetitive task by having a function call itself.  \n",
    "A recursive function calls itself usually with a modified parameter till it reaches a specific condition. This is called the base case.\n",
    "\n",
    "Lets dive in to the most classic example of recursion."
   ]
  },
  {
   "cell_type": "code",
   "execution_count": 20,
   "metadata": {},
   "outputs": [],
   "source": [
    "def factorial(n):\n",
    "    # base case\n",
    "    if n == 1:\n",
    "        return 1\n",
    "    # call the same function with a smaller value\n",
    "    return n * factorial(n-1)"
   ]
  },
  {
   "cell_type": "code",
   "execution_count": 21,
   "metadata": {},
   "outputs": [
    {
     "name": "stdout",
     "output_type": "stream",
     "text": [
      "3628800\n"
     ]
    }
   ],
   "source": [
    "print(factorial(10))"
   ]
  },
  {
   "cell_type": "markdown",
   "metadata": {},
   "source": [
    "Lets dissect the function above to understand what's happening under the hood."
   ]
  },
  {
   "cell_type": "code",
   "execution_count": 22,
   "metadata": {},
   "outputs": [],
   "source": [
    "def _factorial(n):\n",
    "    print(\"Factorial called with \" + str(n))\n",
    "    if n == 1:\n",
    "        print(\"Base case evaluated. Returning 1\")\n",
    "        return 1\n",
    "    result = n * _factorial(n-1)\n",
    "    print(\"Returning \" + str(result) + \" for factorial of \" +  str(n))\n",
    "    return result"
   ]
  },
  {
   "cell_type": "code",
   "execution_count": 23,
   "metadata": {},
   "outputs": [
    {
     "name": "stdout",
     "output_type": "stream",
     "text": [
      "Factorial called with 5\n",
      "Factorial called with 4\n",
      "Factorial called with 3\n",
      "Factorial called with 2\n",
      "Factorial called with 1\n",
      "Base case evaluated. Returning 1\n",
      "Returning 2 for factorial of 2\n",
      "Returning 6 for factorial of 3\n",
      "Returning 24 for factorial of 4\n",
      "Returning 120 for factorial of 5\n",
      "120\n"
     ]
    }
   ],
   "source": [
    "print(_factorial(5))"
   ]
  },
  {
   "cell_type": "markdown",
   "metadata": {},
   "source": [
    "As we can see above, the factorial function repeatedly calls itself with smaller and smaller values till it reaches the base case.  \n",
    "Once at the base case, the function returns the value 1  \n",
    "After that, one by one, all the previous function calls return the value multiplied by the value that the functions were called with."
   ]
  },
  {
   "cell_type": "markdown",
   "metadata": {},
   "source": [
    "**Use case for Recursion**  \n",
    "Apart from math functions that require recursion, one real world example of where we would use recursion is while counting the number of files in a directory.  \n",
    "\n",
    "The base case would be a directory that has no sub-directories and contains only files.  \n",
    "A directory that contains sub-directories will call the function recursively till a base case is reached and then start evaluating the number of files in a directory working backwards fromt the base case directory."
   ]
  },
  {
   "cell_type": "markdown",
   "metadata": {},
   "source": [
    "**NOTE:** In many languages there is an upper limit to the number of calls that you can make to a recursive function. For python, the upper limit is 1000. That's fine for things like counting subdirectories, but it might not be enough for some mathematical functions."
   ]
  }
 ],
 "metadata": {
  "kernelspec": {
   "display_name": "Python 3",
   "language": "python",
   "name": "python3"
  },
  "language_info": {
   "codemirror_mode": {
    "name": "ipython",
    "version": 3
   },
   "file_extension": ".py",
   "mimetype": "text/x-python",
   "name": "python",
   "nbconvert_exporter": "python",
   "pygments_lexer": "ipython3",
   "version": "3.8.3"
  }
 },
 "nbformat": 4,
 "nbformat_minor": 4
}
